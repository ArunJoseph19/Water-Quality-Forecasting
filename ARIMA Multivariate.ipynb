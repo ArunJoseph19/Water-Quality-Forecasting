{
 "cells": [
  {
   "cell_type": "code",
   "execution_count": 2,
   "id": "d21415d8",
   "metadata": {},
   "outputs": [
    {
     "data": {
      "text/html": [
       "<div>\n",
       "<style scoped>\n",
       "    .dataframe tbody tr th:only-of-type {\n",
       "        vertical-align: middle;\n",
       "    }\n",
       "\n",
       "    .dataframe tbody tr th {\n",
       "        vertical-align: top;\n",
       "    }\n",
       "\n",
       "    .dataframe thead th {\n",
       "        text-align: right;\n",
       "    }\n",
       "</style>\n",
       "<table border=\"1\" class=\"dataframe\">\n",
       "  <thead>\n",
       "    <tr style=\"text-align: right;\">\n",
       "      <th></th>\n",
       "      <th>STATION CODE</th>\n",
       "      <th>LOCATIONS</th>\n",
       "      <th>STATE</th>\n",
       "      <th>Temp_Min</th>\n",
       "      <th>Temp_Max</th>\n",
       "      <th>DO_Min</th>\n",
       "      <th>DO_Max</th>\n",
       "      <th>PH_Min</th>\n",
       "      <th>PH_Max</th>\n",
       "      <th>CON_Min</th>\n",
       "      <th>CON_Max</th>\n",
       "      <th>BOD_Min</th>\n",
       "      <th>BOD_Max</th>\n",
       "      <th>NITR_Min</th>\n",
       "      <th>NITR_Max</th>\n",
       "      <th>FC_Min</th>\n",
       "      <th>FC_Max</th>\n",
       "      <th>TC_Min</th>\n",
       "      <th>TC_Max</th>\n",
       "    </tr>\n",
       "  </thead>\n",
       "  <tbody>\n",
       "    <tr>\n",
       "      <th>0</th>\n",
       "      <td>1198</td>\n",
       "      <td>CAUVERY AT NAPOKULU BDG (D/S)</td>\n",
       "      <td>KARNATAKA</td>\n",
       "      <td>19</td>\n",
       "      <td>28</td>\n",
       "      <td>6.9</td>\n",
       "      <td>7.8</td>\n",
       "      <td>7.2</td>\n",
       "      <td>8.1</td>\n",
       "      <td>32</td>\n",
       "      <td>187</td>\n",
       "      <td>1</td>\n",
       "      <td>1.8</td>\n",
       "      <td>BDL</td>\n",
       "      <td>0.50</td>\n",
       "      <td>20</td>\n",
       "      <td>83</td>\n",
       "      <td>210</td>\n",
       "      <td>410</td>\n",
       "    </tr>\n",
       "    <tr>\n",
       "      <th>1</th>\n",
       "      <td>1195</td>\n",
       "      <td>CAUVERY AT KUSHAL NAGAR U/S (NEAR BAICHANAHALLI)</td>\n",
       "      <td>KARNATAKA</td>\n",
       "      <td>19</td>\n",
       "      <td>26</td>\n",
       "      <td>6.8</td>\n",
       "      <td>7.2</td>\n",
       "      <td>7.3</td>\n",
       "      <td>8.0</td>\n",
       "      <td>75</td>\n",
       "      <td>225</td>\n",
       "      <td>1.1</td>\n",
       "      <td>2.0</td>\n",
       "      <td>BDL</td>\n",
       "      <td>0.96</td>\n",
       "      <td>32</td>\n",
       "      <td>93</td>\n",
       "      <td>280</td>\n",
       "      <td>460</td>\n",
       "    </tr>\n",
       "    <tr>\n",
       "      <th>2</th>\n",
       "      <td>33</td>\n",
       "      <td>CAUVERY AT KRS DAM, BALAMURIKSHETRA</td>\n",
       "      <td>KARNATAKA</td>\n",
       "      <td>24</td>\n",
       "      <td>28</td>\n",
       "      <td>6.9</td>\n",
       "      <td>7.4</td>\n",
       "      <td>7.7</td>\n",
       "      <td>8.3</td>\n",
       "      <td>118</td>\n",
       "      <td>295</td>\n",
       "      <td>1.2</td>\n",
       "      <td>1.5</td>\n",
       "      <td>0.32</td>\n",
       "      <td>1.70</td>\n",
       "      <td>130</td>\n",
       "      <td>340</td>\n",
       "      <td>790</td>\n",
       "      <td>1300</td>\n",
       "    </tr>\n",
       "    <tr>\n",
       "      <th>3</th>\n",
       "      <td>1171</td>\n",
       "      <td>CAUVERY AT SRI RANGAPATTANNA, D/S OF ROAD BDG.</td>\n",
       "      <td>KARNATAKA</td>\n",
       "      <td>25</td>\n",
       "      <td>29</td>\n",
       "      <td>6.3</td>\n",
       "      <td>7.1</td>\n",
       "      <td>7.4</td>\n",
       "      <td>8.3</td>\n",
       "      <td>147</td>\n",
       "      <td>344</td>\n",
       "      <td>1.4</td>\n",
       "      <td>2.5</td>\n",
       "      <td>0.55</td>\n",
       "      <td>2.10</td>\n",
       "      <td>210</td>\n",
       "      <td>700</td>\n",
       "      <td>1100</td>\n",
       "      <td>1700</td>\n",
       "    </tr>\n",
       "    <tr>\n",
       "      <th>4</th>\n",
       "      <td>1386</td>\n",
       "      <td>CAUVERY AT D/S OF KAREKUARA VILLAGE</td>\n",
       "      <td>KARNATAKA</td>\n",
       "      <td>23</td>\n",
       "      <td>27</td>\n",
       "      <td>6.7</td>\n",
       "      <td>7.3</td>\n",
       "      <td>7.6</td>\n",
       "      <td>8.2</td>\n",
       "      <td>118</td>\n",
       "      <td>301</td>\n",
       "      <td>1.2</td>\n",
       "      <td>1.8</td>\n",
       "      <td>BDL</td>\n",
       "      <td>2.10</td>\n",
       "      <td>130</td>\n",
       "      <td>460</td>\n",
       "      <td>700</td>\n",
       "      <td>1300</td>\n",
       "    </tr>\n",
       "    <tr>\n",
       "      <th>5</th>\n",
       "      <td>34</td>\n",
       "      <td>CAUVERY AT SATHYAGALAM BRIDGE</td>\n",
       "      <td>KARNATAKA</td>\n",
       "      <td>21</td>\n",
       "      <td>28</td>\n",
       "      <td>6.8</td>\n",
       "      <td>7.4</td>\n",
       "      <td>8.0</td>\n",
       "      <td>8.4</td>\n",
       "      <td>148</td>\n",
       "      <td>373</td>\n",
       "      <td>1.1</td>\n",
       "      <td>2.0</td>\n",
       "      <td>0.52</td>\n",
       "      <td>2.00</td>\n",
       "      <td>170</td>\n",
       "      <td>490</td>\n",
       "      <td>920</td>\n",
       "      <td>1400</td>\n",
       "    </tr>\n",
       "    <tr>\n",
       "      <th>6</th>\n",
       "      <td>2773</td>\n",
       "      <td>CAUVERY AT BANNUR BRIDGE</td>\n",
       "      <td>KARNATAKA</td>\n",
       "      <td>22</td>\n",
       "      <td>29</td>\n",
       "      <td>6.7</td>\n",
       "      <td>7.3</td>\n",
       "      <td>7.6</td>\n",
       "      <td>8.2</td>\n",
       "      <td>128</td>\n",
       "      <td>420</td>\n",
       "      <td>1.2</td>\n",
       "      <td>2.0</td>\n",
       "      <td>0.48</td>\n",
       "      <td>1.50</td>\n",
       "      <td>110</td>\n",
       "      <td>460</td>\n",
       "      <td>630</td>\n",
       "      <td>1200</td>\n",
       "    </tr>\n",
       "    <tr>\n",
       "      <th>7</th>\n",
       "      <td>2774</td>\n",
       "      <td>CAUVERY AT RANGANATHITTU</td>\n",
       "      <td>KARNATAKA</td>\n",
       "      <td>23</td>\n",
       "      <td>28</td>\n",
       "      <td>6.5</td>\n",
       "      <td>7.0</td>\n",
       "      <td>7.5</td>\n",
       "      <td>8.2</td>\n",
       "      <td>157</td>\n",
       "      <td>327</td>\n",
       "      <td>1.5</td>\n",
       "      <td>2.0</td>\n",
       "      <td>0.41</td>\n",
       "      <td>2.80</td>\n",
       "      <td>160</td>\n",
       "      <td>580</td>\n",
       "      <td>1100</td>\n",
       "      <td>1700</td>\n",
       "    </tr>\n",
       "    <tr>\n",
       "      <th>8</th>\n",
       "      <td>3566</td>\n",
       "      <td>CAUVERY AT KRS DAM MANDYA</td>\n",
       "      <td>KARNATAKA</td>\n",
       "      <td>24</td>\n",
       "      <td>28</td>\n",
       "      <td>6.7</td>\n",
       "      <td>7.4</td>\n",
       "      <td>7.8</td>\n",
       "      <td>8.3</td>\n",
       "      <td>125</td>\n",
       "      <td>290</td>\n",
       "      <td>1.1</td>\n",
       "      <td>1.8</td>\n",
       "      <td>0.32</td>\n",
       "      <td>1.20</td>\n",
       "      <td>91</td>\n",
       "      <td>320</td>\n",
       "      <td>580</td>\n",
       "      <td>1200</td>\n",
       "    </tr>\n",
       "    <tr>\n",
       "      <th>9</th>\n",
       "      <td>3568</td>\n",
       "      <td>CAUVERY AT WATER SUPPLY INTAKE POINT TO SRIRAN...</td>\n",
       "      <td>KARNATAKA</td>\n",
       "      <td>23</td>\n",
       "      <td>28</td>\n",
       "      <td>6.3</td>\n",
       "      <td>7.3</td>\n",
       "      <td>7.6</td>\n",
       "      <td>8.3</td>\n",
       "      <td>145</td>\n",
       "      <td>325</td>\n",
       "      <td>1.2</td>\n",
       "      <td>22.0</td>\n",
       "      <td>0.44</td>\n",
       "      <td>1.30</td>\n",
       "      <td>140</td>\n",
       "      <td>430</td>\n",
       "      <td>630</td>\n",
       "      <td>1500</td>\n",
       "    </tr>\n",
       "    <tr>\n",
       "      <th>10</th>\n",
       "      <td>3569</td>\n",
       "      <td>CAUVERY AT WATER SUPPLY INTAKE POINT TO MANDYA...</td>\n",
       "      <td>KARNATAKA</td>\n",
       "      <td>24</td>\n",
       "      <td>27</td>\n",
       "      <td>6.3</td>\n",
       "      <td>7.1</td>\n",
       "      <td>7.6</td>\n",
       "      <td>8.2</td>\n",
       "      <td>148</td>\n",
       "      <td>328</td>\n",
       "      <td>1.2</td>\n",
       "      <td>2.6</td>\n",
       "      <td>0.32</td>\n",
       "      <td>2.10</td>\n",
       "      <td>210</td>\n",
       "      <td>390</td>\n",
       "      <td>840</td>\n",
       "      <td>1400</td>\n",
       "    </tr>\n",
       "    <tr>\n",
       "      <th>11</th>\n",
       "      <td>3570</td>\n",
       "      <td>CAUVERY D/S OF KR NAGAR BRIDGE</td>\n",
       "      <td>KARNATAKA</td>\n",
       "      <td>23</td>\n",
       "      <td>29</td>\n",
       "      <td>6.8</td>\n",
       "      <td>7.3</td>\n",
       "      <td>7.5</td>\n",
       "      <td>8.3</td>\n",
       "      <td>128</td>\n",
       "      <td>448</td>\n",
       "      <td>1.1</td>\n",
       "      <td>1.9</td>\n",
       "      <td>0.32</td>\n",
       "      <td>3.50</td>\n",
       "      <td>110</td>\n",
       "      <td>340</td>\n",
       "      <td>790</td>\n",
       "      <td>1300</td>\n",
       "    </tr>\n",
       "    <tr>\n",
       "      <th>12</th>\n",
       "      <td>3571</td>\n",
       "      <td>CAUVERY U/S OF KR NAGAR</td>\n",
       "      <td>KARNATAKA</td>\n",
       "      <td>22</td>\n",
       "      <td>29</td>\n",
       "      <td>6.7</td>\n",
       "      <td>7.4</td>\n",
       "      <td>7.4</td>\n",
       "      <td>8.3</td>\n",
       "      <td>108</td>\n",
       "      <td>450</td>\n",
       "      <td>1.1</td>\n",
       "      <td>2.1</td>\n",
       "      <td>0.34</td>\n",
       "      <td>2.90</td>\n",
       "      <td>91</td>\n",
       "      <td>260</td>\n",
       "      <td>630</td>\n",
       "      <td>1200</td>\n",
       "    </tr>\n",
       "    <tr>\n",
       "      <th>13</th>\n",
       "      <td>3573</td>\n",
       "      <td>CAUVERY D/S OF KUSHALANAGAR TOWN</td>\n",
       "      <td>KARNATAKA</td>\n",
       "      <td>19</td>\n",
       "      <td>26</td>\n",
       "      <td>6.9</td>\n",
       "      <td>7.3</td>\n",
       "      <td>7.1</td>\n",
       "      <td>8.2</td>\n",
       "      <td>45</td>\n",
       "      <td>291</td>\n",
       "      <td>1.1</td>\n",
       "      <td>1.6</td>\n",
       "      <td>BDL</td>\n",
       "      <td>5.00</td>\n",
       "      <td>33</td>\n",
       "      <td>93</td>\n",
       "      <td>280</td>\n",
       "      <td>480</td>\n",
       "    </tr>\n",
       "    <tr>\n",
       "      <th>14</th>\n",
       "      <td>3574</td>\n",
       "      <td>CAUVERY AT WATER SUPPLY INTAKE POINT TO\\nMADIKERI</td>\n",
       "      <td>KARNATAKA</td>\n",
       "      <td>18</td>\n",
       "      <td>29</td>\n",
       "      <td>7.0</td>\n",
       "      <td>7.7</td>\n",
       "      <td>7.2</td>\n",
       "      <td>8.2</td>\n",
       "      <td>44</td>\n",
       "      <td>253</td>\n",
       "      <td>1</td>\n",
       "      <td>1.8</td>\n",
       "      <td>BDL</td>\n",
       "      <td>0.81</td>\n",
       "      <td>21</td>\n",
       "      <td>78</td>\n",
       "      <td>170</td>\n",
       "      <td>390</td>\n",
       "    </tr>\n",
       "    <tr>\n",
       "      <th>15</th>\n",
       "      <td>3576</td>\n",
       "      <td>CAUVERY AT WATER SUPPLY INTAKE POINT TO MYSORE...</td>\n",
       "      <td>KARNATAKA</td>\n",
       "      <td>20</td>\n",
       "      <td>28</td>\n",
       "      <td>6.5</td>\n",
       "      <td>7.5</td>\n",
       "      <td>7.8</td>\n",
       "      <td>8.3</td>\n",
       "      <td>139</td>\n",
       "      <td>309</td>\n",
       "      <td>1</td>\n",
       "      <td>2.0</td>\n",
       "      <td>0.5</td>\n",
       "      <td>1.70</td>\n",
       "      <td>93</td>\n",
       "      <td>270</td>\n",
       "      <td>630</td>\n",
       "      <td>840</td>\n",
       "    </tr>\n",
       "    <tr>\n",
       "      <th>16</th>\n",
       "      <td>3578</td>\n",
       "      <td>CAUVERY D/S OF MADDUR WATER SUPPLY TREATMENT PLAN</td>\n",
       "      <td>KARNATAKA</td>\n",
       "      <td>23</td>\n",
       "      <td>28</td>\n",
       "      <td>5.8</td>\n",
       "      <td>7.4</td>\n",
       "      <td>7.7</td>\n",
       "      <td>8.4</td>\n",
       "      <td>169</td>\n",
       "      <td>369</td>\n",
       "      <td>1</td>\n",
       "      <td>3.0</td>\n",
       "      <td>0.34</td>\n",
       "      <td>1.60</td>\n",
       "      <td>91</td>\n",
       "      <td>330</td>\n",
       "      <td>700</td>\n",
       "      <td>1100</td>\n",
       "    </tr>\n",
       "    <tr>\n",
       "      <th>17</th>\n",
       "      <td>3579</td>\n",
       "      <td>CAUVERY AT WATER SUPPLY INTAKE POINT AT KOLLEGALA</td>\n",
       "      <td>KARNATAKA</td>\n",
       "      <td>21</td>\n",
       "      <td>29</td>\n",
       "      <td>6.0</td>\n",
       "      <td>8.0</td>\n",
       "      <td>7.0</td>\n",
       "      <td>8.4</td>\n",
       "      <td>161</td>\n",
       "      <td>389</td>\n",
       "      <td>1.2</td>\n",
       "      <td>2.0</td>\n",
       "      <td>0.54</td>\n",
       "      <td>2.10</td>\n",
       "      <td>130</td>\n",
       "      <td>490</td>\n",
       "      <td>840</td>\n",
       "      <td>1300</td>\n",
       "    </tr>\n",
       "    <tr>\n",
       "      <th>18</th>\n",
       "      <td>3581</td>\n",
       "      <td>CAUVERY AT WATER SUPPLY INTAKE POINT AT T K HALLI</td>\n",
       "      <td>KARNATAKA</td>\n",
       "      <td>23</td>\n",
       "      <td>28</td>\n",
       "      <td>6.8</td>\n",
       "      <td>7.4</td>\n",
       "      <td>7.7</td>\n",
       "      <td>8.4</td>\n",
       "      <td>132</td>\n",
       "      <td>365</td>\n",
       "      <td>1.2</td>\n",
       "      <td>1.8</td>\n",
       "      <td>0.32</td>\n",
       "      <td>1.80</td>\n",
       "      <td>91</td>\n",
       "      <td>430</td>\n",
       "      <td>630</td>\n",
       "      <td>1200</td>\n",
       "    </tr>\n",
       "    <tr>\n",
       "      <th>19</th>\n",
       "      <td>4109</td>\n",
       "      <td>CAUVERY RIVER BEFORE CONFLUENCE AT SANGAM</td>\n",
       "      <td>KARNATAKA</td>\n",
       "      <td>24</td>\n",
       "      <td>26</td>\n",
       "      <td>4.5</td>\n",
       "      <td>8.0</td>\n",
       "      <td>7.1</td>\n",
       "      <td>7.9</td>\n",
       "      <td>255</td>\n",
       "      <td>1177</td>\n",
       "      <td>3</td>\n",
       "      <td>5.2</td>\n",
       "      <td>BDL</td>\n",
       "      <td>8.75</td>\n",
       "      <td>21</td>\n",
       "      <td>11000</td>\n",
       "      <td>350</td>\n",
       "      <td>160000</td>\n",
       "    </tr>\n",
       "    <tr>\n",
       "      <th>20</th>\n",
       "      <td>30052</td>\n",
       "      <td>CAUVERY AT AJJIBORE (BANGALORE)</td>\n",
       "      <td>INTER-STATE</td>\n",
       "      <td>26</td>\n",
       "      <td>26</td>\n",
       "      <td>7.7</td>\n",
       "      <td>8.4</td>\n",
       "      <td>7.6</td>\n",
       "      <td>8.3</td>\n",
       "      <td>336</td>\n",
       "      <td>554</td>\n",
       "      <td>BDL</td>\n",
       "      <td>0.1</td>\n",
       "      <td>BDL</td>\n",
       "      <td>0.73</td>\n",
       "      <td>110</td>\n",
       "      <td>490</td>\n",
       "      <td>920</td>\n",
       "      <td>3500</td>\n",
       "    </tr>\n",
       "    <tr>\n",
       "      <th>21</th>\n",
       "      <td>50</td>\n",
       "      <td>CAUVERY AT METTUR</td>\n",
       "      <td>TAMIL NADU</td>\n",
       "      <td>22</td>\n",
       "      <td>31</td>\n",
       "      <td>4.8</td>\n",
       "      <td>7.0</td>\n",
       "      <td>6.6</td>\n",
       "      <td>8.6</td>\n",
       "      <td>288</td>\n",
       "      <td>479</td>\n",
       "      <td>BDL</td>\n",
       "      <td>4.0</td>\n",
       "      <td>BDL</td>\n",
       "      <td>1.84</td>\n",
       "      <td>21</td>\n",
       "      <td>46</td>\n",
       "      <td>47</td>\n",
       "      <td>140</td>\n",
       "    </tr>\n",
       "    <tr>\n",
       "      <th>22</th>\n",
       "      <td>51</td>\n",
       "      <td>CAUVERY AT PALLIPPALAYAM</td>\n",
       "      <td>TAMIL NADU</td>\n",
       "      <td>22</td>\n",
       "      <td>30</td>\n",
       "      <td>1.6</td>\n",
       "      <td>6.9</td>\n",
       "      <td>7.5</td>\n",
       "      <td>7.9</td>\n",
       "      <td>303</td>\n",
       "      <td>1016</td>\n",
       "      <td>BDL</td>\n",
       "      <td>12.0</td>\n",
       "      <td>BDL</td>\n",
       "      <td>1.23</td>\n",
       "      <td>26</td>\n",
       "      <td>310</td>\n",
       "      <td>94</td>\n",
       "      <td>630</td>\n",
       "    </tr>\n",
       "    <tr>\n",
       "      <th>23</th>\n",
       "      <td>1320</td>\n",
       "      <td>CAUVERY AT ERODE NEAR CHIRAPALAYAM,\\nTAMILNADU</td>\n",
       "      <td>TAMIL NADU</td>\n",
       "      <td>29</td>\n",
       "      <td>33</td>\n",
       "      <td>6.0</td>\n",
       "      <td>7.0</td>\n",
       "      <td>7.5</td>\n",
       "      <td>8.4</td>\n",
       "      <td>269</td>\n",
       "      <td>660</td>\n",
       "      <td>BDL</td>\n",
       "      <td>2.0</td>\n",
       "      <td>BDL</td>\n",
       "      <td>0.36</td>\n",
       "      <td>12</td>\n",
       "      <td>220</td>\n",
       "      <td>33</td>\n",
       "      <td>470</td>\n",
       "    </tr>\n",
       "    <tr>\n",
       "      <th>24</th>\n",
       "      <td>1323</td>\n",
       "      <td>CAUVERY AT VELORE NEAR KATTIPALAYAM,\\nTAMILNADU</td>\n",
       "      <td>TAMIL NADU</td>\n",
       "      <td>26</td>\n",
       "      <td>32</td>\n",
       "      <td>5.6</td>\n",
       "      <td>6.9</td>\n",
       "      <td>7.6</td>\n",
       "      <td>8.6</td>\n",
       "      <td>343</td>\n",
       "      <td>831</td>\n",
       "      <td>BDL</td>\n",
       "      <td>2.0</td>\n",
       "      <td>BDL</td>\n",
       "      <td>0.36</td>\n",
       "      <td>21</td>\n",
       "      <td>260</td>\n",
       "      <td>63</td>\n",
       "      <td>630</td>\n",
       "    </tr>\n",
       "    <tr>\n",
       "      <th>25</th>\n",
       "      <td>3015</td>\n",
       "      <td>CAUVERY AT PUGALUR, KARUR, TAMILNADU</td>\n",
       "      <td>TAMIL NADU</td>\n",
       "      <td>29</td>\n",
       "      <td>35</td>\n",
       "      <td>6.0</td>\n",
       "      <td>7.0</td>\n",
       "      <td>7.6</td>\n",
       "      <td>8.8</td>\n",
       "      <td>493</td>\n",
       "      <td>879</td>\n",
       "      <td>BDL</td>\n",
       "      <td>2.0</td>\n",
       "      <td>BDL</td>\n",
       "      <td>0.39</td>\n",
       "      <td>58</td>\n",
       "      <td>260</td>\n",
       "      <td>170</td>\n",
       "      <td>630</td>\n",
       "    </tr>\n",
       "    <tr>\n",
       "      <th>26</th>\n",
       "      <td>1324</td>\n",
       "      <td>CAUVERY AT MOHANUR NEAR PATTAIPALAYAM,\\nTAMILNADU</td>\n",
       "      <td>TAMIL NADU</td>\n",
       "      <td>26</td>\n",
       "      <td>32</td>\n",
       "      <td>5.7</td>\n",
       "      <td>7.0</td>\n",
       "      <td>7.6</td>\n",
       "      <td>8.7</td>\n",
       "      <td>356</td>\n",
       "      <td>836</td>\n",
       "      <td>BDL</td>\n",
       "      <td>2.4</td>\n",
       "      <td>BDL</td>\n",
       "      <td>0.34</td>\n",
       "      <td>23</td>\n",
       "      <td>260</td>\n",
       "      <td>70</td>\n",
       "      <td>630</td>\n",
       "    </tr>\n",
       "    <tr>\n",
       "      <th>27</th>\n",
       "      <td>1451</td>\n",
       "      <td>CAUVERY AT THIRUMUKKUDAL-CONFL. PT.OF R.\\nAMRA...</td>\n",
       "      <td>TAMIL NADU</td>\n",
       "      <td>24</td>\n",
       "      <td>35</td>\n",
       "      <td>6.0</td>\n",
       "      <td>7.0</td>\n",
       "      <td>7.6</td>\n",
       "      <td>8.6</td>\n",
       "      <td>468</td>\n",
       "      <td>856</td>\n",
       "      <td>BDL</td>\n",
       "      <td>3.0</td>\n",
       "      <td>BDL</td>\n",
       "      <td>0.81</td>\n",
       "      <td>46</td>\n",
       "      <td>210</td>\n",
       "      <td>150</td>\n",
       "      <td>470</td>\n",
       "    </tr>\n",
       "    <tr>\n",
       "      <th>28</th>\n",
       "      <td>31</td>\n",
       "      <td>CAUVERY AT MUSIRI</td>\n",
       "      <td>TAMIL NADU</td>\n",
       "      <td>27</td>\n",
       "      <td>34</td>\n",
       "      <td>6.0</td>\n",
       "      <td>7.0</td>\n",
       "      <td>7.5</td>\n",
       "      <td>8.7</td>\n",
       "      <td>329</td>\n",
       "      <td>887</td>\n",
       "      <td>BDL</td>\n",
       "      <td>3.0</td>\n",
       "      <td>0.31</td>\n",
       "      <td>1.12</td>\n",
       "      <td>31</td>\n",
       "      <td>140</td>\n",
       "      <td>110</td>\n",
       "      <td>280</td>\n",
       "    </tr>\n",
       "    <tr>\n",
       "      <th>29</th>\n",
       "      <td>3016</td>\n",
       "      <td>CAUVERY AT PETTAIVAITHALAI, TRICHY, TAMILNADU</td>\n",
       "      <td>TAMIL NADU</td>\n",
       "      <td>28</td>\n",
       "      <td>34</td>\n",
       "      <td>6.0</td>\n",
       "      <td>7.2</td>\n",
       "      <td>7.7</td>\n",
       "      <td>8.7</td>\n",
       "      <td>334</td>\n",
       "      <td>609</td>\n",
       "      <td>BDL</td>\n",
       "      <td>3.0</td>\n",
       "      <td>BDL</td>\n",
       "      <td>0.80</td>\n",
       "      <td>63</td>\n",
       "      <td>230</td>\n",
       "      <td>140</td>\n",
       "      <td>490</td>\n",
       "    </tr>\n",
       "    <tr>\n",
       "      <th>30</th>\n",
       "      <td>1202</td>\n",
       "      <td>CAUVERY AT TIRUCHIRAPPALLI U/S, TAMILNADU</td>\n",
       "      <td>TAMIL NADU</td>\n",
       "      <td>27</td>\n",
       "      <td>33</td>\n",
       "      <td>6.0</td>\n",
       "      <td>7.4</td>\n",
       "      <td>7.7</td>\n",
       "      <td>8.4</td>\n",
       "      <td>362</td>\n",
       "      <td>592</td>\n",
       "      <td>BDL</td>\n",
       "      <td>4.0</td>\n",
       "      <td>0.3</td>\n",
       "      <td>0.86</td>\n",
       "      <td>63</td>\n",
       "      <td>310</td>\n",
       "      <td>150</td>\n",
       "      <td>1100</td>\n",
       "    </tr>\n",
       "    <tr>\n",
       "      <th>31</th>\n",
       "      <td>1325</td>\n",
       "      <td>CAUVERY AT TIRUCHIRAPPALLI D/S, TAMILNADU</td>\n",
       "      <td>TAMIL NADU</td>\n",
       "      <td>30</td>\n",
       "      <td>33</td>\n",
       "      <td>5.5</td>\n",
       "      <td>7.6</td>\n",
       "      <td>7.3</td>\n",
       "      <td>7.9</td>\n",
       "      <td>382</td>\n",
       "      <td>798</td>\n",
       "      <td>BDL</td>\n",
       "      <td>3.3</td>\n",
       "      <td>BDL</td>\n",
       "      <td>3.81</td>\n",
       "      <td>14</td>\n",
       "      <td>460</td>\n",
       "      <td>49</td>\n",
       "      <td>1400</td>\n",
       "    </tr>\n",
       "    <tr>\n",
       "      <th>32</th>\n",
       "      <td>1203</td>\n",
       "      <td>CAUVERY AT TRICHY, GRAND ANAICUT,</td>\n",
       "      <td>TAMIL NADU</td>\n",
       "      <td>26</td>\n",
       "      <td>31</td>\n",
       "      <td>5.4</td>\n",
       "      <td>7.5</td>\n",
       "      <td>7.4</td>\n",
       "      <td>7.9</td>\n",
       "      <td>425</td>\n",
       "      <td>730</td>\n",
       "      <td>BDL</td>\n",
       "      <td>3.0</td>\n",
       "      <td>BDL</td>\n",
       "      <td>2.08</td>\n",
       "      <td>26</td>\n",
       "      <td>110</td>\n",
       "      <td>70</td>\n",
       "      <td>270</td>\n",
       "    </tr>\n",
       "    <tr>\n",
       "      <th>33</th>\n",
       "      <td>1206</td>\n",
       "      <td>CAUVERY AT THANJAVUR, TAMILNADU</td>\n",
       "      <td>TAMIL NADU</td>\n",
       "      <td>30</td>\n",
       "      <td>34</td>\n",
       "      <td>5.5</td>\n",
       "      <td>7.9</td>\n",
       "      <td>7.5</td>\n",
       "      <td>8.2</td>\n",
       "      <td>357</td>\n",
       "      <td>660</td>\n",
       "      <td>1</td>\n",
       "      <td>4.0</td>\n",
       "      <td>BDL</td>\n",
       "      <td>0.83</td>\n",
       "      <td>17</td>\n",
       "      <td>130</td>\n",
       "      <td>46</td>\n",
       "      <td>320</td>\n",
       "    </tr>\n",
       "    <tr>\n",
       "      <th>34</th>\n",
       "      <td>3018</td>\n",
       "      <td>CAUVERY AT MAYILADUTHURAI, NAGAPATTINAM,</td>\n",
       "      <td>TAMIL NADU</td>\n",
       "      <td>23</td>\n",
       "      <td>27</td>\n",
       "      <td>5.1</td>\n",
       "      <td>6.7</td>\n",
       "      <td>7.2</td>\n",
       "      <td>7.9</td>\n",
       "      <td>341</td>\n",
       "      <td>6080</td>\n",
       "      <td>1</td>\n",
       "      <td>3.0</td>\n",
       "      <td>BDL</td>\n",
       "      <td>0.55</td>\n",
       "      <td>23</td>\n",
       "      <td>110</td>\n",
       "      <td>70</td>\n",
       "      <td>270</td>\n",
       "    </tr>\n",
       "    <tr>\n",
       "      <th>35</th>\n",
       "      <td>3012</td>\n",
       "      <td>CAUVERY AT KOMARAPALAYAM, NAMAKAL,</td>\n",
       "      <td>TAMIL NADU</td>\n",
       "      <td>20</td>\n",
       "      <td>32</td>\n",
       "      <td>4.6</td>\n",
       "      <td>6.7</td>\n",
       "      <td>7.3</td>\n",
       "      <td>8.3</td>\n",
       "      <td>324</td>\n",
       "      <td>513</td>\n",
       "      <td>BDL</td>\n",
       "      <td>6.9</td>\n",
       "      <td>BDL</td>\n",
       "      <td>1.37</td>\n",
       "      <td>49</td>\n",
       "      <td>260</td>\n",
       "      <td>170</td>\n",
       "      <td>630</td>\n",
       "    </tr>\n",
       "    <tr>\n",
       "      <th>36</th>\n",
       "      <td>3013</td>\n",
       "      <td>CAUVERY AT URRACHIKOTTAI, ERODE, TAMILNADU</td>\n",
       "      <td>TAMIL NADU</td>\n",
       "      <td>19</td>\n",
       "      <td>32</td>\n",
       "      <td>5.8</td>\n",
       "      <td>6.9</td>\n",
       "      <td>7.6</td>\n",
       "      <td>8.5</td>\n",
       "      <td>270</td>\n",
       "      <td>420</td>\n",
       "      <td>BDL</td>\n",
       "      <td>2.0</td>\n",
       "      <td>BDL</td>\n",
       "      <td>0.36</td>\n",
       "      <td>26</td>\n",
       "      <td>84</td>\n",
       "      <td>63</td>\n",
       "      <td>210</td>\n",
       "    </tr>\n",
       "    <tr>\n",
       "      <th>37</th>\n",
       "      <td>3014</td>\n",
       "      <td>CAUVERY AT VAIRAPALAYAM, NAMAKAL,</td>\n",
       "      <td>TAMIL NADU</td>\n",
       "      <td>20</td>\n",
       "      <td>32</td>\n",
       "      <td>5.4</td>\n",
       "      <td>6.9</td>\n",
       "      <td>7.1</td>\n",
       "      <td>8.3</td>\n",
       "      <td>276</td>\n",
       "      <td>429</td>\n",
       "      <td>BDL</td>\n",
       "      <td>3.6</td>\n",
       "      <td>BDL</td>\n",
       "      <td>1.38</td>\n",
       "      <td>31</td>\n",
       "      <td>220</td>\n",
       "      <td>84</td>\n",
       "      <td>490</td>\n",
       "    </tr>\n",
       "    <tr>\n",
       "      <th>38</th>\n",
       "      <td>3017</td>\n",
       "      <td>CAUVERY AT KUMBAKONAM, THANJAVUR,</td>\n",
       "      <td>TAMIL NADU</td>\n",
       "      <td>28</td>\n",
       "      <td>31</td>\n",
       "      <td>5.2</td>\n",
       "      <td>7.5</td>\n",
       "      <td>7.5</td>\n",
       "      <td>7.9</td>\n",
       "      <td>386</td>\n",
       "      <td>511</td>\n",
       "      <td>1</td>\n",
       "      <td>3.6</td>\n",
       "      <td>BDL</td>\n",
       "      <td>1.60</td>\n",
       "      <td>23</td>\n",
       "      <td>170</td>\n",
       "      <td>70</td>\n",
       "      <td>390</td>\n",
       "    </tr>\n",
       "    <tr>\n",
       "      <th>39</th>\n",
       "      <td>1326</td>\n",
       "      <td>CAUVERY AT COLEROON, TAMILNADU</td>\n",
       "      <td>TAMIL NADU</td>\n",
       "      <td>23</td>\n",
       "      <td>27</td>\n",
       "      <td>6.0</td>\n",
       "      <td>6.8</td>\n",
       "      <td>7.9</td>\n",
       "      <td>8.5</td>\n",
       "      <td>796</td>\n",
       "      <td>39900</td>\n",
       "      <td>1</td>\n",
       "      <td>2.0</td>\n",
       "      <td>BDL</td>\n",
       "      <td>5.43</td>\n",
       "      <td>43</td>\n",
       "      <td>170</td>\n",
       "      <td>94</td>\n",
       "      <td>410</td>\n",
       "    </tr>\n",
       "    <tr>\n",
       "      <th>40</th>\n",
       "      <td>1327</td>\n",
       "      <td>CAUVERY AT PITCHAVARAM, TAMILNADU</td>\n",
       "      <td>TAMIL NADU</td>\n",
       "      <td>21</td>\n",
       "      <td>29</td>\n",
       "      <td>5.9</td>\n",
       "      <td>6.9</td>\n",
       "      <td>6.9</td>\n",
       "      <td>8.4</td>\n",
       "      <td>420</td>\n",
       "      <td>831</td>\n",
       "      <td>1</td>\n",
       "      <td>2.0</td>\n",
       "      <td>BDL</td>\n",
       "      <td>3.48</td>\n",
       "      <td>33</td>\n",
       "      <td>140</td>\n",
       "      <td>120</td>\n",
       "      <td>380</td>\n",
       "    </tr>\n",
       "    <tr>\n",
       "      <th>41</th>\n",
       "      <td>4099</td>\n",
       "      <td>CAUVERY RIVER D/S BARACHUKI FALLS, SATHEGALA,\\...</td>\n",
       "      <td>KARNATAKA</td>\n",
       "      <td>20</td>\n",
       "      <td>28</td>\n",
       "      <td>6.5</td>\n",
       "      <td>7.5</td>\n",
       "      <td>8.1</td>\n",
       "      <td>8.4</td>\n",
       "      <td>150</td>\n",
       "      <td>395</td>\n",
       "      <td>1.1</td>\n",
       "      <td>2.0</td>\n",
       "      <td>0.52</td>\n",
       "      <td>1.80</td>\n",
       "      <td>91</td>\n",
       "      <td>260</td>\n",
       "      <td>580</td>\n",
       "      <td>1100</td>\n",
       "    </tr>\n",
       "    <tr>\n",
       "      <th>42</th>\n",
       "      <td>4101</td>\n",
       "      <td>GUNDAL RESERVOIR, GUNDAL KOLLEGALA TQ &amp;\\nCHAMA...</td>\n",
       "      <td>KARNATAKA</td>\n",
       "      <td>20</td>\n",
       "      <td>28</td>\n",
       "      <td>6.9</td>\n",
       "      <td>7.6</td>\n",
       "      <td>7.9</td>\n",
       "      <td>8.4</td>\n",
       "      <td>118</td>\n",
       "      <td>276</td>\n",
       "      <td>1</td>\n",
       "      <td>1.6</td>\n",
       "      <td>BDL</td>\n",
       "      <td>1.50</td>\n",
       "      <td>78</td>\n",
       "      <td>220</td>\n",
       "      <td>430</td>\n",
       "      <td>840</td>\n",
       "    </tr>\n",
       "    <tr>\n",
       "      <th>43</th>\n",
       "      <td>4102</td>\n",
       "      <td>D/S OF CAUVERY AT BHAGAMANDALA BRIDGE</td>\n",
       "      <td>KARNATAKA</td>\n",
       "      <td>18</td>\n",
       "      <td>28</td>\n",
       "      <td>6.4</td>\n",
       "      <td>7.4</td>\n",
       "      <td>7.2</td>\n",
       "      <td>8.3</td>\n",
       "      <td>33</td>\n",
       "      <td>145</td>\n",
       "      <td>1.1</td>\n",
       "      <td>2.0</td>\n",
       "      <td>BDL</td>\n",
       "      <td>0.30</td>\n",
       "      <td>14</td>\n",
       "      <td>110</td>\n",
       "      <td>170</td>\n",
       "      <td>490</td>\n",
       "    </tr>\n",
       "    <tr>\n",
       "      <th>44</th>\n",
       "      <td>4103</td>\n",
       "      <td>D/s OF CAUVERY AT KANIVE RAMALINGESWARA\\nTEMPL...</td>\n",
       "      <td>KARNATAKA</td>\n",
       "      <td>18</td>\n",
       "      <td>26</td>\n",
       "      <td>6.8</td>\n",
       "      <td>7.4</td>\n",
       "      <td>7.2</td>\n",
       "      <td>8.2</td>\n",
       "      <td>76</td>\n",
       "      <td>204</td>\n",
       "      <td>1.2</td>\n",
       "      <td>1.8</td>\n",
       "      <td>BDL</td>\n",
       "      <td>0.80</td>\n",
       "      <td>22</td>\n",
       "      <td>78</td>\n",
       "      <td>220</td>\n",
       "      <td>460</td>\n",
       "    </tr>\n",
       "    <tr>\n",
       "      <th>45</th>\n",
       "      <td>1322</td>\n",
       "      <td>CAUVERY AT 1KM. D/S OF BHAVANI RIVER CONFL., T...</td>\n",
       "      <td>TAMIL NADU</td>\n",
       "      <td>28</td>\n",
       "      <td>33</td>\n",
       "      <td>0.4</td>\n",
       "      <td>7.0</td>\n",
       "      <td>7.7</td>\n",
       "      <td>8.4</td>\n",
       "      <td>338</td>\n",
       "      <td>1123</td>\n",
       "      <td>0.5</td>\n",
       "      <td>23.3</td>\n",
       "      <td>BDL</td>\n",
       "      <td>0.36</td>\n",
       "      <td>22</td>\n",
       "      <td>430</td>\n",
       "      <td>49</td>\n",
       "      <td>940</td>\n",
       "    </tr>\n",
       "  </tbody>\n",
       "</table>\n",
       "</div>"
      ],
      "text/plain": [
       "    STATION CODE                                          LOCATIONS  \\\n",
       "0           1198                      CAUVERY AT NAPOKULU BDG (D/S)   \n",
       "1           1195   CAUVERY AT KUSHAL NAGAR U/S (NEAR BAICHANAHALLI)   \n",
       "2             33                CAUVERY AT KRS DAM, BALAMURIKSHETRA   \n",
       "3           1171     CAUVERY AT SRI RANGAPATTANNA, D/S OF ROAD BDG.   \n",
       "4           1386                CAUVERY AT D/S OF KAREKUARA VILLAGE   \n",
       "5             34                      CAUVERY AT SATHYAGALAM BRIDGE   \n",
       "6           2773                           CAUVERY AT BANNUR BRIDGE   \n",
       "7           2774                           CAUVERY AT RANGANATHITTU   \n",
       "8           3566                          CAUVERY AT KRS DAM MANDYA   \n",
       "9           3568  CAUVERY AT WATER SUPPLY INTAKE POINT TO SRIRAN...   \n",
       "10          3569  CAUVERY AT WATER SUPPLY INTAKE POINT TO MANDYA...   \n",
       "11          3570                     CAUVERY D/S OF KR NAGAR BRIDGE   \n",
       "12          3571                            CAUVERY U/S OF KR NAGAR   \n",
       "13          3573                   CAUVERY D/S OF KUSHALANAGAR TOWN   \n",
       "14          3574  CAUVERY AT WATER SUPPLY INTAKE POINT TO\\nMADIKERI   \n",
       "15          3576  CAUVERY AT WATER SUPPLY INTAKE POINT TO MYSORE...   \n",
       "16          3578  CAUVERY D/S OF MADDUR WATER SUPPLY TREATMENT PLAN   \n",
       "17          3579  CAUVERY AT WATER SUPPLY INTAKE POINT AT KOLLEGALA   \n",
       "18          3581  CAUVERY AT WATER SUPPLY INTAKE POINT AT T K HALLI   \n",
       "19          4109          CAUVERY RIVER BEFORE CONFLUENCE AT SANGAM   \n",
       "20         30052                    CAUVERY AT AJJIBORE (BANGALORE)   \n",
       "21            50                                  CAUVERY AT METTUR   \n",
       "22            51                           CAUVERY AT PALLIPPALAYAM   \n",
       "23          1320     CAUVERY AT ERODE NEAR CHIRAPALAYAM,\\nTAMILNADU   \n",
       "24          1323    CAUVERY AT VELORE NEAR KATTIPALAYAM,\\nTAMILNADU   \n",
       "25          3015               CAUVERY AT PUGALUR, KARUR, TAMILNADU   \n",
       "26          1324  CAUVERY AT MOHANUR NEAR PATTAIPALAYAM,\\nTAMILNADU   \n",
       "27          1451  CAUVERY AT THIRUMUKKUDAL-CONFL. PT.OF R.\\nAMRA...   \n",
       "28            31                                  CAUVERY AT MUSIRI   \n",
       "29          3016      CAUVERY AT PETTAIVAITHALAI, TRICHY, TAMILNADU   \n",
       "30          1202          CAUVERY AT TIRUCHIRAPPALLI U/S, TAMILNADU   \n",
       "31          1325          CAUVERY AT TIRUCHIRAPPALLI D/S, TAMILNADU   \n",
       "32          1203                  CAUVERY AT TRICHY, GRAND ANAICUT,   \n",
       "33          1206                    CAUVERY AT THANJAVUR, TAMILNADU   \n",
       "34          3018           CAUVERY AT MAYILADUTHURAI, NAGAPATTINAM,   \n",
       "35          3012                 CAUVERY AT KOMARAPALAYAM, NAMAKAL,   \n",
       "36          3013         CAUVERY AT URRACHIKOTTAI, ERODE, TAMILNADU   \n",
       "37          3014                  CAUVERY AT VAIRAPALAYAM, NAMAKAL,   \n",
       "38          3017                  CAUVERY AT KUMBAKONAM, THANJAVUR,   \n",
       "39          1326                     CAUVERY AT COLEROON, TAMILNADU   \n",
       "40          1327                  CAUVERY AT PITCHAVARAM, TAMILNADU   \n",
       "41          4099  CAUVERY RIVER D/S BARACHUKI FALLS, SATHEGALA,\\...   \n",
       "42          4101  GUNDAL RESERVOIR, GUNDAL KOLLEGALA TQ &\\nCHAMA...   \n",
       "43          4102              D/S OF CAUVERY AT BHAGAMANDALA BRIDGE   \n",
       "44          4103  D/s OF CAUVERY AT KANIVE RAMALINGESWARA\\nTEMPL...   \n",
       "45          1322  CAUVERY AT 1KM. D/S OF BHAVANI RIVER CONFL., T...   \n",
       "\n",
       "          STATE  Temp_Min  Temp_Max  DO_Min  DO_Max  PH_Min  PH_Max  CON_Min  \\\n",
       "0     KARNATAKA        19        28     6.9     7.8     7.2     8.1       32   \n",
       "1     KARNATAKA        19        26     6.8     7.2     7.3     8.0       75   \n",
       "2     KARNATAKA        24        28     6.9     7.4     7.7     8.3      118   \n",
       "3     KARNATAKA        25        29     6.3     7.1     7.4     8.3      147   \n",
       "4     KARNATAKA        23        27     6.7     7.3     7.6     8.2      118   \n",
       "5     KARNATAKA        21        28     6.8     7.4     8.0     8.4      148   \n",
       "6     KARNATAKA        22        29     6.7     7.3     7.6     8.2      128   \n",
       "7     KARNATAKA        23        28     6.5     7.0     7.5     8.2      157   \n",
       "8     KARNATAKA        24        28     6.7     7.4     7.8     8.3      125   \n",
       "9     KARNATAKA        23        28     6.3     7.3     7.6     8.3      145   \n",
       "10    KARNATAKA        24        27     6.3     7.1     7.6     8.2      148   \n",
       "11    KARNATAKA        23        29     6.8     7.3     7.5     8.3      128   \n",
       "12    KARNATAKA        22        29     6.7     7.4     7.4     8.3      108   \n",
       "13    KARNATAKA        19        26     6.9     7.3     7.1     8.2       45   \n",
       "14    KARNATAKA        18        29     7.0     7.7     7.2     8.2       44   \n",
       "15    KARNATAKA        20        28     6.5     7.5     7.8     8.3      139   \n",
       "16    KARNATAKA        23        28     5.8     7.4     7.7     8.4      169   \n",
       "17    KARNATAKA        21        29     6.0     8.0     7.0     8.4      161   \n",
       "18    KARNATAKA        23        28     6.8     7.4     7.7     8.4      132   \n",
       "19    KARNATAKA        24        26     4.5     8.0     7.1     7.9      255   \n",
       "20  INTER-STATE        26        26     7.7     8.4     7.6     8.3      336   \n",
       "21   TAMIL NADU        22        31     4.8     7.0     6.6     8.6      288   \n",
       "22   TAMIL NADU        22        30     1.6     6.9     7.5     7.9      303   \n",
       "23   TAMIL NADU        29        33     6.0     7.0     7.5     8.4      269   \n",
       "24   TAMIL NADU        26        32     5.6     6.9     7.6     8.6      343   \n",
       "25   TAMIL NADU        29        35     6.0     7.0     7.6     8.8      493   \n",
       "26   TAMIL NADU        26        32     5.7     7.0     7.6     8.7      356   \n",
       "27   TAMIL NADU        24        35     6.0     7.0     7.6     8.6      468   \n",
       "28   TAMIL NADU        27        34     6.0     7.0     7.5     8.7      329   \n",
       "29   TAMIL NADU        28        34     6.0     7.2     7.7     8.7      334   \n",
       "30   TAMIL NADU        27        33     6.0     7.4     7.7     8.4      362   \n",
       "31   TAMIL NADU        30        33     5.5     7.6     7.3     7.9      382   \n",
       "32   TAMIL NADU        26        31     5.4     7.5     7.4     7.9      425   \n",
       "33   TAMIL NADU        30        34     5.5     7.9     7.5     8.2      357   \n",
       "34   TAMIL NADU        23        27     5.1     6.7     7.2     7.9      341   \n",
       "35   TAMIL NADU        20        32     4.6     6.7     7.3     8.3      324   \n",
       "36   TAMIL NADU        19        32     5.8     6.9     7.6     8.5      270   \n",
       "37   TAMIL NADU        20        32     5.4     6.9     7.1     8.3      276   \n",
       "38   TAMIL NADU        28        31     5.2     7.5     7.5     7.9      386   \n",
       "39   TAMIL NADU        23        27     6.0     6.8     7.9     8.5      796   \n",
       "40   TAMIL NADU        21        29     5.9     6.9     6.9     8.4      420   \n",
       "41    KARNATAKA        20        28     6.5     7.5     8.1     8.4      150   \n",
       "42    KARNATAKA        20        28     6.9     7.6     7.9     8.4      118   \n",
       "43    KARNATAKA        18        28     6.4     7.4     7.2     8.3       33   \n",
       "44    KARNATAKA        18        26     6.8     7.4     7.2     8.2       76   \n",
       "45   TAMIL NADU        28        33     0.4     7.0     7.7     8.4      338   \n",
       "\n",
       "    CON_Max BOD_Min  BOD_Max NITR_Min  NITR_Max  FC_Min  FC_Max  TC_Min  \\\n",
       "0       187       1      1.8      BDL      0.50      20      83     210   \n",
       "1       225     1.1      2.0      BDL      0.96      32      93     280   \n",
       "2       295     1.2      1.5     0.32      1.70     130     340     790   \n",
       "3       344     1.4      2.5     0.55      2.10     210     700    1100   \n",
       "4       301     1.2      1.8      BDL      2.10     130     460     700   \n",
       "5       373     1.1      2.0     0.52      2.00     170     490     920   \n",
       "6       420     1.2      2.0     0.48      1.50     110     460     630   \n",
       "7       327     1.5      2.0     0.41      2.80     160     580    1100   \n",
       "8       290     1.1      1.8     0.32      1.20      91     320     580   \n",
       "9       325     1.2     22.0     0.44      1.30     140     430     630   \n",
       "10      328     1.2      2.6     0.32      2.10     210     390     840   \n",
       "11      448     1.1      1.9     0.32      3.50     110     340     790   \n",
       "12      450     1.1      2.1     0.34      2.90      91     260     630   \n",
       "13      291     1.1      1.6      BDL      5.00      33      93     280   \n",
       "14      253       1      1.8      BDL      0.81      21      78     170   \n",
       "15      309       1      2.0      0.5      1.70      93     270     630   \n",
       "16      369       1      3.0     0.34      1.60      91     330     700   \n",
       "17      389     1.2      2.0     0.54      2.10     130     490     840   \n",
       "18      365     1.2      1.8     0.32      1.80      91     430     630   \n",
       "19     1177       3      5.2      BDL      8.75      21   11000     350   \n",
       "20      554     BDL      0.1      BDL      0.73     110     490     920   \n",
       "21      479     BDL      4.0      BDL      1.84      21      46      47   \n",
       "22     1016     BDL     12.0      BDL      1.23      26     310      94   \n",
       "23      660     BDL      2.0      BDL      0.36      12     220      33   \n",
       "24      831     BDL      2.0      BDL      0.36      21     260      63   \n",
       "25      879     BDL      2.0      BDL      0.39      58     260     170   \n",
       "26      836     BDL      2.4      BDL      0.34      23     260      70   \n",
       "27      856     BDL      3.0      BDL      0.81      46     210     150   \n",
       "28      887     BDL      3.0     0.31      1.12      31     140     110   \n",
       "29      609     BDL      3.0      BDL      0.80      63     230     140   \n",
       "30      592     BDL      4.0      0.3      0.86      63     310     150   \n",
       "31      798     BDL      3.3      BDL      3.81      14     460      49   \n",
       "32      730     BDL      3.0      BDL      2.08      26     110      70   \n",
       "33      660       1      4.0      BDL      0.83      17     130      46   \n",
       "34     6080       1      3.0      BDL      0.55      23     110      70   \n",
       "35      513     BDL      6.9      BDL      1.37      49     260     170   \n",
       "36      420     BDL      2.0      BDL      0.36      26      84      63   \n",
       "37      429     BDL      3.6      BDL      1.38      31     220      84   \n",
       "38      511       1      3.6      BDL      1.60      23     170      70   \n",
       "39    39900       1      2.0      BDL      5.43      43     170      94   \n",
       "40      831       1      2.0      BDL      3.48      33     140     120   \n",
       "41      395     1.1      2.0     0.52      1.80      91     260     580   \n",
       "42      276       1      1.6      BDL      1.50      78     220     430   \n",
       "43      145     1.1      2.0      BDL      0.30      14     110     170   \n",
       "44      204     1.2      1.8      BDL      0.80      22      78     220   \n",
       "45     1123     0.5     23.3      BDL      0.36      22     430      49   \n",
       "\n",
       "    TC_Max  \n",
       "0      410  \n",
       "1      460  \n",
       "2     1300  \n",
       "3     1700  \n",
       "4     1300  \n",
       "5     1400  \n",
       "6     1200  \n",
       "7     1700  \n",
       "8     1200  \n",
       "9     1500  \n",
       "10    1400  \n",
       "11    1300  \n",
       "12    1200  \n",
       "13     480  \n",
       "14     390  \n",
       "15     840  \n",
       "16    1100  \n",
       "17    1300  \n",
       "18    1200  \n",
       "19  160000  \n",
       "20    3500  \n",
       "21     140  \n",
       "22     630  \n",
       "23     470  \n",
       "24     630  \n",
       "25     630  \n",
       "26     630  \n",
       "27     470  \n",
       "28     280  \n",
       "29     490  \n",
       "30    1100  \n",
       "31    1400  \n",
       "32     270  \n",
       "33     320  \n",
       "34     270  \n",
       "35     630  \n",
       "36     210  \n",
       "37     490  \n",
       "38     390  \n",
       "39     410  \n",
       "40     380  \n",
       "41    1100  \n",
       "42     840  \n",
       "43     490  \n",
       "44     460  \n",
       "45     940  "
      ]
     },
     "execution_count": 2,
     "metadata": {},
     "output_type": "execute_result"
    }
   ],
   "source": [
    "import pandas as pd\n",
    "df=pd.read_excel('Original_WQ_Data.xlsx', '2020')\n",
    "df"
   ]
  },
  {
   "cell_type": "code",
   "execution_count": 4,
   "id": "0f18bddc",
   "metadata": {},
   "outputs": [
    {
     "name": "stderr",
     "output_type": "stream",
     "text": [
      "D:\\Anaconda\\lib\\site-packages\\scipy\\__init__.py:138: UserWarning: A NumPy version >=1.16.5 and <1.23.0 is required for this version of SciPy (detected version 1.24.2)\n",
      "  warnings.warn(f\"A NumPy version >={np_minversion} and <{np_maxversion} is required for this version of \"\n"
     ]
    }
   ],
   "source": [
    "import plotly.express as px"
   ]
  },
  {
   "cell_type": "code",
   "execution_count": 8,
   "id": "540f3891",
   "metadata": {},
   "outputs": [
    {
     "data": {
      "application/vnd.plotly.v1+json": {
       "config": {
        "plotlyServerURL": "https://plot.ly"
       },
       "data": [
        {
         "hovertemplate": "Temp_Min=%{x}<br>LOCATIONS=%{y}<extra></extra>",
         "legendgroup": "",
         "line": {
          "color": "#636efa",
          "dash": "solid"
         },
         "mode": "lines",
         "name": "",
         "orientation": "h",
         "showlegend": false,
         "type": "scatter",
         "x": [
          19,
          19,
          24,
          25,
          23,
          21,
          22,
          23,
          24,
          23,
          24,
          23,
          22,
          19,
          18,
          20,
          23,
          21,
          23,
          24,
          26,
          22,
          22,
          29,
          26,
          29,
          26,
          24,
          27,
          28,
          27,
          30,
          26,
          30,
          23,
          20,
          19,
          20,
          28,
          23,
          21,
          20,
          20,
          18,
          18,
          28
         ],
         "xaxis": "x",
         "y": [
          "CAUVERY AT NAPOKULU BDG (D/S)",
          "CAUVERY AT KUSHAL NAGAR U/S (NEAR BAICHANAHALLI)",
          "CAUVERY AT KRS DAM, BALAMURIKSHETRA",
          "CAUVERY AT SRI RANGAPATTANNA, D/S OF ROAD BDG.",
          "CAUVERY AT D/S OF KAREKUARA VILLAGE",
          "CAUVERY AT SATHYAGALAM BRIDGE",
          "CAUVERY AT BANNUR BRIDGE",
          "CAUVERY AT RANGANATHITTU",
          "CAUVERY AT KRS DAM MANDYA",
          "CAUVERY AT WATER SUPPLY INTAKE POINT TO SRIRANGAPATANAN",
          "CAUVERY AT WATER SUPPLY INTAKE POINT TO MANDYA TOWN",
          "CAUVERY D/S OF KR NAGAR BRIDGE",
          "CAUVERY U/S OF KR NAGAR",
          "CAUVERY D/S OF KUSHALANAGAR TOWN",
          "CAUVERY AT WATER SUPPLY INTAKE POINT TO\nMADIKERI",
          "CAUVERY AT WATER SUPPLY INTAKE POINT TO MYSORE PUMP HOUSE",
          "CAUVERY D/S OF MADDUR WATER SUPPLY TREATMENT PLAN",
          "CAUVERY AT WATER SUPPLY INTAKE POINT AT KOLLEGALA",
          "CAUVERY AT WATER SUPPLY INTAKE POINT AT T K HALLI",
          "CAUVERY RIVER BEFORE CONFLUENCE AT SANGAM",
          "CAUVERY AT AJJIBORE (BANGALORE)",
          "CAUVERY AT METTUR",
          "CAUVERY AT PALLIPPALAYAM",
          "CAUVERY AT ERODE NEAR CHIRAPALAYAM,\nTAMILNADU",
          "CAUVERY AT VELORE NEAR KATTIPALAYAM,\nTAMILNADU",
          "CAUVERY AT PUGALUR, KARUR, TAMILNADU",
          "CAUVERY AT MOHANUR NEAR PATTAIPALAYAM,\nTAMILNADU",
          "CAUVERY AT THIRUMUKKUDAL-CONFL. PT.OF R.\nAMRAVATI,",
          "CAUVERY AT MUSIRI",
          "CAUVERY AT PETTAIVAITHALAI, TRICHY, TAMILNADU",
          "CAUVERY AT TIRUCHIRAPPALLI U/S, TAMILNADU",
          "CAUVERY AT TIRUCHIRAPPALLI D/S, TAMILNADU",
          "CAUVERY AT TRICHY, GRAND ANAICUT,",
          "CAUVERY AT THANJAVUR, TAMILNADU",
          "CAUVERY AT MAYILADUTHURAI, NAGAPATTINAM,",
          "CAUVERY AT KOMARAPALAYAM, NAMAKAL,",
          "CAUVERY AT URRACHIKOTTAI, ERODE, TAMILNADU",
          "CAUVERY AT VAIRAPALAYAM, NAMAKAL,",
          "CAUVERY AT KUMBAKONAM, THANJAVUR,",
          "CAUVERY AT COLEROON, TAMILNADU",
          "CAUVERY AT PITCHAVARAM, TAMILNADU",
          "CAUVERY RIVER D/S BARACHUKI FALLS, SATHEGALA,\nKOLL",
          "GUNDAL RESERVOIR, GUNDAL KOLLEGALA TQ &\nCHAMARAJAN",
          "D/S OF CAUVERY AT BHAGAMANDALA BRIDGE",
          "D/s OF CAUVERY AT KANIVE RAMALINGESWARA\nTEMPLE BRI",
          "CAUVERY AT 1KM. D/S OF BHAVANI RIVER CONFL., TAMIL"
         ],
         "yaxis": "y"
        }
       ],
       "layout": {
        "legend": {
         "tracegroupgap": 0
        },
        "template": {
         "data": {
          "bar": [
           {
            "error_x": {
             "color": "#2a3f5f"
            },
            "error_y": {
             "color": "#2a3f5f"
            },
            "marker": {
             "line": {
              "color": "#E5ECF6",
              "width": 0.5
             }
            },
            "type": "bar"
           }
          ],
          "barpolar": [
           {
            "marker": {
             "line": {
              "color": "#E5ECF6",
              "width": 0.5
             }
            },
            "type": "barpolar"
           }
          ],
          "carpet": [
           {
            "aaxis": {
             "endlinecolor": "#2a3f5f",
             "gridcolor": "white",
             "linecolor": "white",
             "minorgridcolor": "white",
             "startlinecolor": "#2a3f5f"
            },
            "baxis": {
             "endlinecolor": "#2a3f5f",
             "gridcolor": "white",
             "linecolor": "white",
             "minorgridcolor": "white",
             "startlinecolor": "#2a3f5f"
            },
            "type": "carpet"
           }
          ],
          "choropleth": [
           {
            "colorbar": {
             "outlinewidth": 0,
             "ticks": ""
            },
            "type": "choropleth"
           }
          ],
          "contour": [
           {
            "colorbar": {
             "outlinewidth": 0,
             "ticks": ""
            },
            "colorscale": [
             [
              0,
              "#0d0887"
             ],
             [
              0.1111111111111111,
              "#46039f"
             ],
             [
              0.2222222222222222,
              "#7201a8"
             ],
             [
              0.3333333333333333,
              "#9c179e"
             ],
             [
              0.4444444444444444,
              "#bd3786"
             ],
             [
              0.5555555555555556,
              "#d8576b"
             ],
             [
              0.6666666666666666,
              "#ed7953"
             ],
             [
              0.7777777777777778,
              "#fb9f3a"
             ],
             [
              0.8888888888888888,
              "#fdca26"
             ],
             [
              1,
              "#f0f921"
             ]
            ],
            "type": "contour"
           }
          ],
          "contourcarpet": [
           {
            "colorbar": {
             "outlinewidth": 0,
             "ticks": ""
            },
            "type": "contourcarpet"
           }
          ],
          "heatmap": [
           {
            "colorbar": {
             "outlinewidth": 0,
             "ticks": ""
            },
            "colorscale": [
             [
              0,
              "#0d0887"
             ],
             [
              0.1111111111111111,
              "#46039f"
             ],
             [
              0.2222222222222222,
              "#7201a8"
             ],
             [
              0.3333333333333333,
              "#9c179e"
             ],
             [
              0.4444444444444444,
              "#bd3786"
             ],
             [
              0.5555555555555556,
              "#d8576b"
             ],
             [
              0.6666666666666666,
              "#ed7953"
             ],
             [
              0.7777777777777778,
              "#fb9f3a"
             ],
             [
              0.8888888888888888,
              "#fdca26"
             ],
             [
              1,
              "#f0f921"
             ]
            ],
            "type": "heatmap"
           }
          ],
          "heatmapgl": [
           {
            "colorbar": {
             "outlinewidth": 0,
             "ticks": ""
            },
            "colorscale": [
             [
              0,
              "#0d0887"
             ],
             [
              0.1111111111111111,
              "#46039f"
             ],
             [
              0.2222222222222222,
              "#7201a8"
             ],
             [
              0.3333333333333333,
              "#9c179e"
             ],
             [
              0.4444444444444444,
              "#bd3786"
             ],
             [
              0.5555555555555556,
              "#d8576b"
             ],
             [
              0.6666666666666666,
              "#ed7953"
             ],
             [
              0.7777777777777778,
              "#fb9f3a"
             ],
             [
              0.8888888888888888,
              "#fdca26"
             ],
             [
              1,
              "#f0f921"
             ]
            ],
            "type": "heatmapgl"
           }
          ],
          "histogram": [
           {
            "marker": {
             "colorbar": {
              "outlinewidth": 0,
              "ticks": ""
             }
            },
            "type": "histogram"
           }
          ],
          "histogram2d": [
           {
            "colorbar": {
             "outlinewidth": 0,
             "ticks": ""
            },
            "colorscale": [
             [
              0,
              "#0d0887"
             ],
             [
              0.1111111111111111,
              "#46039f"
             ],
             [
              0.2222222222222222,
              "#7201a8"
             ],
             [
              0.3333333333333333,
              "#9c179e"
             ],
             [
              0.4444444444444444,
              "#bd3786"
             ],
             [
              0.5555555555555556,
              "#d8576b"
             ],
             [
              0.6666666666666666,
              "#ed7953"
             ],
             [
              0.7777777777777778,
              "#fb9f3a"
             ],
             [
              0.8888888888888888,
              "#fdca26"
             ],
             [
              1,
              "#f0f921"
             ]
            ],
            "type": "histogram2d"
           }
          ],
          "histogram2dcontour": [
           {
            "colorbar": {
             "outlinewidth": 0,
             "ticks": ""
            },
            "colorscale": [
             [
              0,
              "#0d0887"
             ],
             [
              0.1111111111111111,
              "#46039f"
             ],
             [
              0.2222222222222222,
              "#7201a8"
             ],
             [
              0.3333333333333333,
              "#9c179e"
             ],
             [
              0.4444444444444444,
              "#bd3786"
             ],
             [
              0.5555555555555556,
              "#d8576b"
             ],
             [
              0.6666666666666666,
              "#ed7953"
             ],
             [
              0.7777777777777778,
              "#fb9f3a"
             ],
             [
              0.8888888888888888,
              "#fdca26"
             ],
             [
              1,
              "#f0f921"
             ]
            ],
            "type": "histogram2dcontour"
           }
          ],
          "mesh3d": [
           {
            "colorbar": {
             "outlinewidth": 0,
             "ticks": ""
            },
            "type": "mesh3d"
           }
          ],
          "parcoords": [
           {
            "line": {
             "colorbar": {
              "outlinewidth": 0,
              "ticks": ""
             }
            },
            "type": "parcoords"
           }
          ],
          "pie": [
           {
            "automargin": true,
            "type": "pie"
           }
          ],
          "scatter": [
           {
            "marker": {
             "colorbar": {
              "outlinewidth": 0,
              "ticks": ""
             }
            },
            "type": "scatter"
           }
          ],
          "scatter3d": [
           {
            "line": {
             "colorbar": {
              "outlinewidth": 0,
              "ticks": ""
             }
            },
            "marker": {
             "colorbar": {
              "outlinewidth": 0,
              "ticks": ""
             }
            },
            "type": "scatter3d"
           }
          ],
          "scattercarpet": [
           {
            "marker": {
             "colorbar": {
              "outlinewidth": 0,
              "ticks": ""
             }
            },
            "type": "scattercarpet"
           }
          ],
          "scattergeo": [
           {
            "marker": {
             "colorbar": {
              "outlinewidth": 0,
              "ticks": ""
             }
            },
            "type": "scattergeo"
           }
          ],
          "scattergl": [
           {
            "marker": {
             "colorbar": {
              "outlinewidth": 0,
              "ticks": ""
             }
            },
            "type": "scattergl"
           }
          ],
          "scattermapbox": [
           {
            "marker": {
             "colorbar": {
              "outlinewidth": 0,
              "ticks": ""
             }
            },
            "type": "scattermapbox"
           }
          ],
          "scatterpolar": [
           {
            "marker": {
             "colorbar": {
              "outlinewidth": 0,
              "ticks": ""
             }
            },
            "type": "scatterpolar"
           }
          ],
          "scatterpolargl": [
           {
            "marker": {
             "colorbar": {
              "outlinewidth": 0,
              "ticks": ""
             }
            },
            "type": "scatterpolargl"
           }
          ],
          "scatterternary": [
           {
            "marker": {
             "colorbar": {
              "outlinewidth": 0,
              "ticks": ""
             }
            },
            "type": "scatterternary"
           }
          ],
          "surface": [
           {
            "colorbar": {
             "outlinewidth": 0,
             "ticks": ""
            },
            "colorscale": [
             [
              0,
              "#0d0887"
             ],
             [
              0.1111111111111111,
              "#46039f"
             ],
             [
              0.2222222222222222,
              "#7201a8"
             ],
             [
              0.3333333333333333,
              "#9c179e"
             ],
             [
              0.4444444444444444,
              "#bd3786"
             ],
             [
              0.5555555555555556,
              "#d8576b"
             ],
             [
              0.6666666666666666,
              "#ed7953"
             ],
             [
              0.7777777777777778,
              "#fb9f3a"
             ],
             [
              0.8888888888888888,
              "#fdca26"
             ],
             [
              1,
              "#f0f921"
             ]
            ],
            "type": "surface"
           }
          ],
          "table": [
           {
            "cells": {
             "fill": {
              "color": "#EBF0F8"
             },
             "line": {
              "color": "white"
             }
            },
            "header": {
             "fill": {
              "color": "#C8D4E3"
             },
             "line": {
              "color": "white"
             }
            },
            "type": "table"
           }
          ]
         },
         "layout": {
          "annotationdefaults": {
           "arrowcolor": "#2a3f5f",
           "arrowhead": 0,
           "arrowwidth": 1
          },
          "autotypenumbers": "strict",
          "coloraxis": {
           "colorbar": {
            "outlinewidth": 0,
            "ticks": ""
           }
          },
          "colorscale": {
           "diverging": [
            [
             0,
             "#8e0152"
            ],
            [
             0.1,
             "#c51b7d"
            ],
            [
             0.2,
             "#de77ae"
            ],
            [
             0.3,
             "#f1b6da"
            ],
            [
             0.4,
             "#fde0ef"
            ],
            [
             0.5,
             "#f7f7f7"
            ],
            [
             0.6,
             "#e6f5d0"
            ],
            [
             0.7,
             "#b8e186"
            ],
            [
             0.8,
             "#7fbc41"
            ],
            [
             0.9,
             "#4d9221"
            ],
            [
             1,
             "#276419"
            ]
           ],
           "sequential": [
            [
             0,
             "#0d0887"
            ],
            [
             0.1111111111111111,
             "#46039f"
            ],
            [
             0.2222222222222222,
             "#7201a8"
            ],
            [
             0.3333333333333333,
             "#9c179e"
            ],
            [
             0.4444444444444444,
             "#bd3786"
            ],
            [
             0.5555555555555556,
             "#d8576b"
            ],
            [
             0.6666666666666666,
             "#ed7953"
            ],
            [
             0.7777777777777778,
             "#fb9f3a"
            ],
            [
             0.8888888888888888,
             "#fdca26"
            ],
            [
             1,
             "#f0f921"
            ]
           ],
           "sequentialminus": [
            [
             0,
             "#0d0887"
            ],
            [
             0.1111111111111111,
             "#46039f"
            ],
            [
             0.2222222222222222,
             "#7201a8"
            ],
            [
             0.3333333333333333,
             "#9c179e"
            ],
            [
             0.4444444444444444,
             "#bd3786"
            ],
            [
             0.5555555555555556,
             "#d8576b"
            ],
            [
             0.6666666666666666,
             "#ed7953"
            ],
            [
             0.7777777777777778,
             "#fb9f3a"
            ],
            [
             0.8888888888888888,
             "#fdca26"
            ],
            [
             1,
             "#f0f921"
            ]
           ]
          },
          "colorway": [
           "#636efa",
           "#EF553B",
           "#00cc96",
           "#ab63fa",
           "#FFA15A",
           "#19d3f3",
           "#FF6692",
           "#B6E880",
           "#FF97FF",
           "#FECB52"
          ],
          "font": {
           "color": "#2a3f5f"
          },
          "geo": {
           "bgcolor": "white",
           "lakecolor": "white",
           "landcolor": "#E5ECF6",
           "showlakes": true,
           "showland": true,
           "subunitcolor": "white"
          },
          "hoverlabel": {
           "align": "left"
          },
          "hovermode": "closest",
          "mapbox": {
           "style": "light"
          },
          "paper_bgcolor": "white",
          "plot_bgcolor": "#E5ECF6",
          "polar": {
           "angularaxis": {
            "gridcolor": "white",
            "linecolor": "white",
            "ticks": ""
           },
           "bgcolor": "#E5ECF6",
           "radialaxis": {
            "gridcolor": "white",
            "linecolor": "white",
            "ticks": ""
           }
          },
          "scene": {
           "xaxis": {
            "backgroundcolor": "#E5ECF6",
            "gridcolor": "white",
            "gridwidth": 2,
            "linecolor": "white",
            "showbackground": true,
            "ticks": "",
            "zerolinecolor": "white"
           },
           "yaxis": {
            "backgroundcolor": "#E5ECF6",
            "gridcolor": "white",
            "gridwidth": 2,
            "linecolor": "white",
            "showbackground": true,
            "ticks": "",
            "zerolinecolor": "white"
           },
           "zaxis": {
            "backgroundcolor": "#E5ECF6",
            "gridcolor": "white",
            "gridwidth": 2,
            "linecolor": "white",
            "showbackground": true,
            "ticks": "",
            "zerolinecolor": "white"
           }
          },
          "shapedefaults": {
           "line": {
            "color": "#2a3f5f"
           }
          },
          "ternary": {
           "aaxis": {
            "gridcolor": "white",
            "linecolor": "white",
            "ticks": ""
           },
           "baxis": {
            "gridcolor": "white",
            "linecolor": "white",
            "ticks": ""
           },
           "bgcolor": "#E5ECF6",
           "caxis": {
            "gridcolor": "white",
            "linecolor": "white",
            "ticks": ""
           }
          },
          "title": {
           "x": 0.05
          },
          "xaxis": {
           "automargin": true,
           "gridcolor": "white",
           "linecolor": "white",
           "ticks": "",
           "title": {
            "standoff": 15
           },
           "zerolinecolor": "white",
           "zerolinewidth": 2
          },
          "yaxis": {
           "automargin": true,
           "gridcolor": "white",
           "linecolor": "white",
           "ticks": "",
           "title": {
            "standoff": 15
           },
           "zerolinecolor": "white",
           "zerolinewidth": 2
          }
         }
        },
        "title": {
         "text": "Energy Consumption"
        },
        "xaxis": {
         "anchor": "y",
         "domain": [
          0,
          1
         ],
         "rangeselector": {
          "buttons": [
           {
            "step": "all"
           }
          ]
         },
         "rangeslider": {
          "visible": true
         },
         "title": {
          "text": "Temp_Min"
         }
        },
        "yaxis": {
         "anchor": "x",
         "domain": [
          0,
          1
         ],
         "title": {
          "text": "LOCATIONS"
         }
        }
       }
      },
      "text/html": [
       "<div>                            <div id=\"da400e3c-ad58-4e43-bb0e-8511a3d3eea3\" class=\"plotly-graph-div\" style=\"height:525px; width:100%;\"></div>            <script type=\"text/javascript\">                require([\"plotly\"], function(Plotly) {                    window.PLOTLYENV=window.PLOTLYENV || {};                                    if (document.getElementById(\"da400e3c-ad58-4e43-bb0e-8511a3d3eea3\")) {                    Plotly.newPlot(                        \"da400e3c-ad58-4e43-bb0e-8511a3d3eea3\",                        [{\"hovertemplate\": \"Temp_Min=%{x}<br>LOCATIONS=%{y}<extra></extra>\", \"legendgroup\": \"\", \"line\": {\"color\": \"#636efa\", \"dash\": \"solid\"}, \"mode\": \"lines\", \"name\": \"\", \"orientation\": \"h\", \"showlegend\": false, \"type\": \"scatter\", \"x\": [19, 19, 24, 25, 23, 21, 22, 23, 24, 23, 24, 23, 22, 19, 18, 20, 23, 21, 23, 24, 26, 22, 22, 29, 26, 29, 26, 24, 27, 28, 27, 30, 26, 30, 23, 20, 19, 20, 28, 23, 21, 20, 20, 18, 18, 28], \"xaxis\": \"x\", \"y\": [\"CAUVERY AT NAPOKULU BDG (D/S)\", \"CAUVERY AT KUSHAL NAGAR U/S (NEAR BAICHANAHALLI)\", \"CAUVERY AT KRS DAM, BALAMURIKSHETRA\", \"CAUVERY AT SRI RANGAPATTANNA, D/S OF ROAD BDG.\", \"CAUVERY AT D/S OF KAREKUARA VILLAGE\", \"CAUVERY AT SATHYAGALAM BRIDGE\", \"CAUVERY AT BANNUR BRIDGE\", \"CAUVERY AT RANGANATHITTU\", \"CAUVERY AT KRS DAM MANDYA\", \"CAUVERY AT WATER SUPPLY INTAKE POINT TO SRIRANGAPATANAN\", \"CAUVERY AT WATER SUPPLY INTAKE POINT TO MANDYA TOWN\", \"CAUVERY D/S OF KR NAGAR BRIDGE\", \"CAUVERY U/S OF KR NAGAR\", \"CAUVERY D/S OF KUSHALANAGAR TOWN\", \"CAUVERY AT WATER SUPPLY INTAKE POINT TO\\nMADIKERI\", \"CAUVERY AT WATER SUPPLY INTAKE POINT TO MYSORE PUMP HOUSE\", \"CAUVERY D/S OF MADDUR WATER SUPPLY TREATMENT PLAN\", \"CAUVERY AT WATER SUPPLY INTAKE POINT AT KOLLEGALA\", \"CAUVERY AT WATER SUPPLY INTAKE POINT AT T K HALLI\", \"CAUVERY RIVER BEFORE CONFLUENCE AT SANGAM\", \"CAUVERY AT AJJIBORE (BANGALORE)\", \"CAUVERY AT METTUR\", \"CAUVERY AT PALLIPPALAYAM\", \"CAUVERY AT ERODE NEAR CHIRAPALAYAM,\\nTAMILNADU\", \"CAUVERY AT VELORE NEAR KATTIPALAYAM,\\nTAMILNADU\", \"CAUVERY AT PUGALUR, KARUR, TAMILNADU\", \"CAUVERY AT MOHANUR NEAR PATTAIPALAYAM,\\nTAMILNADU\", \"CAUVERY AT THIRUMUKKUDAL-CONFL. PT.OF R.\\nAMRAVATI,\", \"CAUVERY AT MUSIRI\", \"CAUVERY AT PETTAIVAITHALAI, TRICHY, TAMILNADU\", \"CAUVERY AT TIRUCHIRAPPALLI U/S, TAMILNADU\", \"CAUVERY AT TIRUCHIRAPPALLI D/S, TAMILNADU\", \"CAUVERY AT TRICHY, GRAND ANAICUT,\", \"CAUVERY AT THANJAVUR, TAMILNADU\", \"CAUVERY AT MAYILADUTHURAI, NAGAPATTINAM,\", \"CAUVERY AT KOMARAPALAYAM, NAMAKAL,\", \"CAUVERY AT URRACHIKOTTAI, ERODE, TAMILNADU\", \"CAUVERY AT VAIRAPALAYAM, NAMAKAL,\", \"CAUVERY AT KUMBAKONAM, THANJAVUR,\", \"CAUVERY AT COLEROON, TAMILNADU\", \"CAUVERY AT PITCHAVARAM, TAMILNADU\", \"CAUVERY RIVER D/S BARACHUKI FALLS, SATHEGALA,\\nKOLL\", \"GUNDAL RESERVOIR, GUNDAL KOLLEGALA TQ &\\nCHAMARAJAN\", \"D/S OF CAUVERY AT BHAGAMANDALA BRIDGE\", \"D/s OF CAUVERY AT KANIVE RAMALINGESWARA\\nTEMPLE BRI\", \"CAUVERY AT 1KM. D/S OF BHAVANI RIVER CONFL., TAMIL\"], \"yaxis\": \"y\"}],                        {\"legend\": {\"tracegroupgap\": 0}, \"template\": {\"data\": {\"bar\": [{\"error_x\": {\"color\": \"#2a3f5f\"}, \"error_y\": {\"color\": \"#2a3f5f\"}, \"marker\": {\"line\": {\"color\": \"#E5ECF6\", \"width\": 0.5}}, \"type\": \"bar\"}], \"barpolar\": [{\"marker\": {\"line\": {\"color\": \"#E5ECF6\", \"width\": 0.5}}, \"type\": \"barpolar\"}], \"carpet\": [{\"aaxis\": {\"endlinecolor\": \"#2a3f5f\", \"gridcolor\": \"white\", \"linecolor\": \"white\", \"minorgridcolor\": \"white\", \"startlinecolor\": \"#2a3f5f\"}, \"baxis\": {\"endlinecolor\": \"#2a3f5f\", \"gridcolor\": \"white\", \"linecolor\": \"white\", \"minorgridcolor\": \"white\", \"startlinecolor\": \"#2a3f5f\"}, \"type\": \"carpet\"}], \"choropleth\": [{\"colorbar\": {\"outlinewidth\": 0, \"ticks\": \"\"}, \"type\": \"choropleth\"}], \"contour\": [{\"colorbar\": {\"outlinewidth\": 0, \"ticks\": \"\"}, \"colorscale\": [[0.0, \"#0d0887\"], [0.1111111111111111, \"#46039f\"], [0.2222222222222222, \"#7201a8\"], [0.3333333333333333, \"#9c179e\"], [0.4444444444444444, \"#bd3786\"], [0.5555555555555556, \"#d8576b\"], [0.6666666666666666, \"#ed7953\"], [0.7777777777777778, \"#fb9f3a\"], [0.8888888888888888, \"#fdca26\"], [1.0, \"#f0f921\"]], \"type\": \"contour\"}], \"contourcarpet\": [{\"colorbar\": {\"outlinewidth\": 0, \"ticks\": \"\"}, \"type\": \"contourcarpet\"}], \"heatmap\": [{\"colorbar\": {\"outlinewidth\": 0, \"ticks\": \"\"}, \"colorscale\": [[0.0, \"#0d0887\"], [0.1111111111111111, \"#46039f\"], [0.2222222222222222, \"#7201a8\"], [0.3333333333333333, \"#9c179e\"], [0.4444444444444444, \"#bd3786\"], [0.5555555555555556, \"#d8576b\"], [0.6666666666666666, \"#ed7953\"], [0.7777777777777778, \"#fb9f3a\"], [0.8888888888888888, \"#fdca26\"], [1.0, \"#f0f921\"]], \"type\": \"heatmap\"}], \"heatmapgl\": [{\"colorbar\": {\"outlinewidth\": 0, \"ticks\": \"\"}, \"colorscale\": [[0.0, \"#0d0887\"], [0.1111111111111111, \"#46039f\"], [0.2222222222222222, \"#7201a8\"], [0.3333333333333333, \"#9c179e\"], [0.4444444444444444, \"#bd3786\"], [0.5555555555555556, \"#d8576b\"], [0.6666666666666666, \"#ed7953\"], [0.7777777777777778, \"#fb9f3a\"], [0.8888888888888888, \"#fdca26\"], [1.0, \"#f0f921\"]], \"type\": \"heatmapgl\"}], \"histogram\": [{\"marker\": {\"colorbar\": {\"outlinewidth\": 0, \"ticks\": \"\"}}, \"type\": \"histogram\"}], \"histogram2d\": [{\"colorbar\": {\"outlinewidth\": 0, \"ticks\": \"\"}, \"colorscale\": [[0.0, \"#0d0887\"], [0.1111111111111111, \"#46039f\"], [0.2222222222222222, \"#7201a8\"], [0.3333333333333333, \"#9c179e\"], [0.4444444444444444, \"#bd3786\"], [0.5555555555555556, \"#d8576b\"], [0.6666666666666666, \"#ed7953\"], [0.7777777777777778, \"#fb9f3a\"], [0.8888888888888888, \"#fdca26\"], [1.0, \"#f0f921\"]], \"type\": \"histogram2d\"}], \"histogram2dcontour\": [{\"colorbar\": {\"outlinewidth\": 0, \"ticks\": \"\"}, \"colorscale\": [[0.0, \"#0d0887\"], [0.1111111111111111, \"#46039f\"], [0.2222222222222222, \"#7201a8\"], [0.3333333333333333, \"#9c179e\"], [0.4444444444444444, \"#bd3786\"], [0.5555555555555556, \"#d8576b\"], [0.6666666666666666, \"#ed7953\"], [0.7777777777777778, \"#fb9f3a\"], [0.8888888888888888, \"#fdca26\"], [1.0, \"#f0f921\"]], \"type\": \"histogram2dcontour\"}], \"mesh3d\": [{\"colorbar\": {\"outlinewidth\": 0, \"ticks\": \"\"}, \"type\": \"mesh3d\"}], \"parcoords\": [{\"line\": {\"colorbar\": {\"outlinewidth\": 0, \"ticks\": \"\"}}, \"type\": \"parcoords\"}], \"pie\": [{\"automargin\": true, \"type\": \"pie\"}], \"scatter\": [{\"marker\": {\"colorbar\": {\"outlinewidth\": 0, \"ticks\": \"\"}}, \"type\": \"scatter\"}], \"scatter3d\": [{\"line\": {\"colorbar\": {\"outlinewidth\": 0, \"ticks\": \"\"}}, \"marker\": {\"colorbar\": {\"outlinewidth\": 0, \"ticks\": \"\"}}, \"type\": \"scatter3d\"}], \"scattercarpet\": [{\"marker\": {\"colorbar\": {\"outlinewidth\": 0, \"ticks\": \"\"}}, \"type\": \"scattercarpet\"}], \"scattergeo\": [{\"marker\": {\"colorbar\": {\"outlinewidth\": 0, \"ticks\": \"\"}}, \"type\": \"scattergeo\"}], \"scattergl\": [{\"marker\": {\"colorbar\": {\"outlinewidth\": 0, \"ticks\": \"\"}}, \"type\": \"scattergl\"}], \"scattermapbox\": [{\"marker\": {\"colorbar\": {\"outlinewidth\": 0, \"ticks\": \"\"}}, \"type\": \"scattermapbox\"}], \"scatterpolar\": [{\"marker\": {\"colorbar\": {\"outlinewidth\": 0, \"ticks\": \"\"}}, \"type\": \"scatterpolar\"}], \"scatterpolargl\": [{\"marker\": {\"colorbar\": {\"outlinewidth\": 0, \"ticks\": \"\"}}, \"type\": \"scatterpolargl\"}], \"scatterternary\": [{\"marker\": {\"colorbar\": {\"outlinewidth\": 0, \"ticks\": \"\"}}, \"type\": \"scatterternary\"}], \"surface\": [{\"colorbar\": {\"outlinewidth\": 0, \"ticks\": \"\"}, \"colorscale\": [[0.0, \"#0d0887\"], [0.1111111111111111, \"#46039f\"], [0.2222222222222222, \"#7201a8\"], [0.3333333333333333, \"#9c179e\"], [0.4444444444444444, \"#bd3786\"], [0.5555555555555556, \"#d8576b\"], [0.6666666666666666, \"#ed7953\"], [0.7777777777777778, \"#fb9f3a\"], [0.8888888888888888, \"#fdca26\"], [1.0, \"#f0f921\"]], \"type\": \"surface\"}], \"table\": [{\"cells\": {\"fill\": {\"color\": \"#EBF0F8\"}, \"line\": {\"color\": \"white\"}}, \"header\": {\"fill\": {\"color\": \"#C8D4E3\"}, \"line\": {\"color\": \"white\"}}, \"type\": \"table\"}]}, \"layout\": {\"annotationdefaults\": {\"arrowcolor\": \"#2a3f5f\", \"arrowhead\": 0, \"arrowwidth\": 1}, \"autotypenumbers\": \"strict\", \"coloraxis\": {\"colorbar\": {\"outlinewidth\": 0, \"ticks\": \"\"}}, \"colorscale\": {\"diverging\": [[0, \"#8e0152\"], [0.1, \"#c51b7d\"], [0.2, \"#de77ae\"], [0.3, \"#f1b6da\"], [0.4, \"#fde0ef\"], [0.5, \"#f7f7f7\"], [0.6, \"#e6f5d0\"], [0.7, \"#b8e186\"], [0.8, \"#7fbc41\"], [0.9, \"#4d9221\"], [1, \"#276419\"]], \"sequential\": [[0.0, \"#0d0887\"], [0.1111111111111111, \"#46039f\"], [0.2222222222222222, \"#7201a8\"], [0.3333333333333333, \"#9c179e\"], [0.4444444444444444, \"#bd3786\"], [0.5555555555555556, \"#d8576b\"], [0.6666666666666666, \"#ed7953\"], [0.7777777777777778, \"#fb9f3a\"], [0.8888888888888888, \"#fdca26\"], [1.0, \"#f0f921\"]], \"sequentialminus\": [[0.0, \"#0d0887\"], [0.1111111111111111, \"#46039f\"], [0.2222222222222222, \"#7201a8\"], [0.3333333333333333, \"#9c179e\"], [0.4444444444444444, \"#bd3786\"], [0.5555555555555556, \"#d8576b\"], [0.6666666666666666, \"#ed7953\"], [0.7777777777777778, \"#fb9f3a\"], [0.8888888888888888, \"#fdca26\"], [1.0, \"#f0f921\"]]}, \"colorway\": [\"#636efa\", \"#EF553B\", \"#00cc96\", \"#ab63fa\", \"#FFA15A\", \"#19d3f3\", \"#FF6692\", \"#B6E880\", \"#FF97FF\", \"#FECB52\"], \"font\": {\"color\": \"#2a3f5f\"}, \"geo\": {\"bgcolor\": \"white\", \"lakecolor\": \"white\", \"landcolor\": \"#E5ECF6\", \"showlakes\": true, \"showland\": true, \"subunitcolor\": \"white\"}, \"hoverlabel\": {\"align\": \"left\"}, \"hovermode\": \"closest\", \"mapbox\": {\"style\": \"light\"}, \"paper_bgcolor\": \"white\", \"plot_bgcolor\": \"#E5ECF6\", \"polar\": {\"angularaxis\": {\"gridcolor\": \"white\", \"linecolor\": \"white\", \"ticks\": \"\"}, \"bgcolor\": \"#E5ECF6\", \"radialaxis\": {\"gridcolor\": \"white\", \"linecolor\": \"white\", \"ticks\": \"\"}}, \"scene\": {\"xaxis\": {\"backgroundcolor\": \"#E5ECF6\", \"gridcolor\": \"white\", \"gridwidth\": 2, \"linecolor\": \"white\", \"showbackground\": true, \"ticks\": \"\", \"zerolinecolor\": \"white\"}, \"yaxis\": {\"backgroundcolor\": \"#E5ECF6\", \"gridcolor\": \"white\", \"gridwidth\": 2, \"linecolor\": \"white\", \"showbackground\": true, \"ticks\": \"\", \"zerolinecolor\": \"white\"}, \"zaxis\": {\"backgroundcolor\": \"#E5ECF6\", \"gridcolor\": \"white\", \"gridwidth\": 2, \"linecolor\": \"white\", \"showbackground\": true, \"ticks\": \"\", \"zerolinecolor\": \"white\"}}, \"shapedefaults\": {\"line\": {\"color\": \"#2a3f5f\"}}, \"ternary\": {\"aaxis\": {\"gridcolor\": \"white\", \"linecolor\": \"white\", \"ticks\": \"\"}, \"baxis\": {\"gridcolor\": \"white\", \"linecolor\": \"white\", \"ticks\": \"\"}, \"bgcolor\": \"#E5ECF6\", \"caxis\": {\"gridcolor\": \"white\", \"linecolor\": \"white\", \"ticks\": \"\"}}, \"title\": {\"x\": 0.05}, \"xaxis\": {\"automargin\": true, \"gridcolor\": \"white\", \"linecolor\": \"white\", \"ticks\": \"\", \"title\": {\"standoff\": 15}, \"zerolinecolor\": \"white\", \"zerolinewidth\": 2}, \"yaxis\": {\"automargin\": true, \"gridcolor\": \"white\", \"linecolor\": \"white\", \"ticks\": \"\", \"title\": {\"standoff\": 15}, \"zerolinecolor\": \"white\", \"zerolinewidth\": 2}}}, \"title\": {\"text\": \"Energy Consumption\"}, \"xaxis\": {\"anchor\": \"y\", \"domain\": [0.0, 1.0], \"rangeselector\": {\"buttons\": [{\"step\": \"all\"}]}, \"rangeslider\": {\"visible\": true}, \"title\": {\"text\": \"Temp_Min\"}}, \"yaxis\": {\"anchor\": \"x\", \"domain\": [0.0, 1.0], \"title\": {\"text\": \"LOCATIONS\"}}},                        {\"responsive\": true}                    ).then(function(){\n",
       "                            \n",
       "var gd = document.getElementById('da400e3c-ad58-4e43-bb0e-8511a3d3eea3');\n",
       "var x = new MutationObserver(function (mutations, observer) {{\n",
       "        var display = window.getComputedStyle(gd).display;\n",
       "        if (!display || display === 'none') {{\n",
       "            console.log([gd, 'removed!']);\n",
       "            Plotly.purge(gd);\n",
       "            observer.disconnect();\n",
       "        }}\n",
       "}});\n",
       "\n",
       "// Listen for the removal of the full notebook cells\n",
       "var notebookContainer = gd.closest('#notebook-container');\n",
       "if (notebookContainer) {{\n",
       "    x.observe(notebookContainer, {childList: true});\n",
       "}}\n",
       "\n",
       "// Listen for the clearing of the current output cell\n",
       "var outputEl = gd.closest('.output');\n",
       "if (outputEl) {{\n",
       "    x.observe(outputEl, {childList: true});\n",
       "}}\n",
       "\n",
       "                        })                };                });            </script>        </div>"
      ]
     },
     "metadata": {},
     "output_type": "display_data"
    }
   ],
   "source": [
    "fig = px.line(df, x='Temp_Min', y='LOCATIONS', title='Energy Consumption')\n",
    "\n",
    "fig.update_xaxes(\n",
    "    rangeslider_visible=True,\n",
    "    rangeselector=dict(\n",
    "        buttons=list([\n",
    "            dict(step=\"all\")\n",
    "        ])\n",
    "    )\n",
    ")\n",
    "fig.show()"
   ]
  },
  {
   "cell_type": "code",
   "execution_count": 9,
   "id": "e82ab17d",
   "metadata": {},
   "outputs": [
    {
     "name": "stdout",
     "output_type": "stream",
     "text": [
      "\n",
      "Missing values :   STATION CODE    False\n",
      "LOCATIONS       False\n",
      "STATE           False\n",
      "Temp_Min        False\n",
      "Temp_Max        False\n",
      "DO_Min          False\n",
      "DO_Max          False\n",
      "PH_Min          False\n",
      "PH_Max          False\n",
      "CON_Min         False\n",
      "CON_Max         False\n",
      "BOD_Min         False\n",
      "BOD_Max         False\n",
      "NITR_Min        False\n",
      "NITR_Max        False\n",
      "FC_Min          False\n",
      "FC_Max          False\n",
      "TC_Min          False\n",
      "TC_Max          False\n",
      "dtype: bool\n"
     ]
    }
   ],
   "source": [
    "print (\"\\nMissing values :  \", df.isnull().any())"
   ]
  },
  {
   "cell_type": "code",
   "execution_count": 10,
   "id": "715e29fd",
   "metadata": {},
   "outputs": [
    {
     "name": "stdout",
     "output_type": "stream",
     "text": [
      "Collecting pmdarima\n",
      "  Downloading pmdarima-2.0.3-cp38-cp38-win_amd64.whl (572 kB)\n",
      "     -------------------------------------- 572.5/572.5 kB 6.0 MB/s eta 0:00:00\n",
      "Requirement already satisfied: scikit-learn>=0.22 in d:\\anaconda\\lib\\site-packages (from pmdarima) (1.2.2)\n",
      "Requirement already satisfied: setuptools!=50.0.0,>=38.6.0 in d:\\anaconda\\lib\\site-packages (from pmdarima) (65.6.3)\n",
      "Requirement already satisfied: pandas>=0.19 in d:\\anaconda\\lib\\site-packages (from pmdarima) (1.5.3)\n",
      "Requirement already satisfied: numpy>=1.21.2 in d:\\anaconda\\lib\\site-packages (from pmdarima) (1.24.2)\n",
      "Requirement already satisfied: statsmodels>=0.13.2 in d:\\anaconda\\lib\\site-packages (from pmdarima) (0.13.5)\n",
      "Requirement already satisfied: scipy>=1.3.2 in d:\\anaconda\\lib\\site-packages (from pmdarima) (1.6.2)\n",
      "Requirement already satisfied: Cython!=0.29.18,!=0.29.31,>=0.29 in d:\\anaconda\\lib\\site-packages (from pmdarima) (0.29.33)\n",
      "Requirement already satisfied: joblib>=0.11 in d:\\anaconda\\lib\\site-packages (from pmdarima) (1.2.0)\n",
      "Requirement already satisfied: urllib3 in d:\\anaconda\\lib\\site-packages (from pmdarima) (1.26.15)\n",
      "Requirement already satisfied: pytz>=2020.1 in d:\\anaconda\\lib\\site-packages (from pandas>=0.19->pmdarima) (2022.7)\n",
      "Requirement already satisfied: python-dateutil>=2.8.1 in d:\\anaconda\\lib\\site-packages (from pandas>=0.19->pmdarima) (2.8.2)\n",
      "Requirement already satisfied: threadpoolctl>=2.0.0 in d:\\anaconda\\lib\\site-packages (from scikit-learn>=0.22->pmdarima) (2.2.0)\n",
      "Collecting numpy>=1.21.2\n",
      "  Using cached numpy-1.22.4-cp38-cp38-win_amd64.whl (14.8 MB)\n",
      "Requirement already satisfied: patsy>=0.5.2 in d:\\anaconda\\lib\\site-packages (from statsmodels>=0.13.2->pmdarima) (0.5.3)\n",
      "Requirement already satisfied: packaging>=21.3 in d:\\anaconda\\lib\\site-packages (from statsmodels>=0.13.2->pmdarima) (23.0)\n",
      "Requirement already satisfied: six in d:\\anaconda\\lib\\site-packages (from patsy>=0.5.2->statsmodels>=0.13.2->pmdarima) (1.16.0)\n",
      "Installing collected packages: numpy, pmdarima\n",
      "  Attempting uninstall: numpy\n",
      "    Found existing installation: numpy 1.24.2\n",
      "    Uninstalling numpy-1.24.2:\n"
     ]
    },
    {
     "name": "stderr",
     "output_type": "stream",
     "text": [
      "WARNING: Ignoring invalid distribution -umpy (d:\\anaconda\\lib\\site-packages)\n",
      "WARNING: Ignoring invalid distribution -umba (d:\\anaconda\\lib\\site-packages)\n",
      "WARNING: Ignoring invalid distribution - (d:\\anaconda\\lib\\site-packages)\n",
      "WARNING: Ignoring invalid distribution -umpy (d:\\anaconda\\lib\\site-packages)\n",
      "WARNING: Ignoring invalid distribution -umba (d:\\anaconda\\lib\\site-packages)\n",
      "WARNING: Ignoring invalid distribution - (d:\\anaconda\\lib\\site-packages)\n",
      "WARNING: Ignoring invalid distribution -umpy (d:\\anaconda\\lib\\site-packages)\n",
      "WARNING: Ignoring invalid distribution -umba (d:\\anaconda\\lib\\site-packages)\n",
      "WARNING: Ignoring invalid distribution - (d:\\anaconda\\lib\\site-packages)\n",
      "    WARNING: Ignoring invalid distribution -umpy (d:\\anaconda\\lib\\site-packages)\n",
      "    WARNING: Ignoring invalid distribution -umba (d:\\anaconda\\lib\\site-packages)\n",
      "    WARNING: Ignoring invalid distribution - (d:\\anaconda\\lib\\site-packages)\n",
      "ERROR: Could not install packages due to an OSError: [WinError 5] Access is denied: 'd:\\\\anaconda\\\\lib\\\\site-packages\\\\numpy\\\\core\\\\_multiarray_tests.cp38-win_amd64.pyd'\n",
      "Consider using the `--user` option or check the permissions.\n",
      "\n",
      "WARNING: Ignoring invalid distribution -umpy (d:\\anaconda\\lib\\site-packages)\n",
      "WARNING: Ignoring invalid distribution -umba (d:\\anaconda\\lib\\site-packages)\n",
      "WARNING: Ignoring invalid distribution - (d:\\anaconda\\lib\\site-packages)\n",
      "WARNING: Ignoring invalid distribution -umpy (d:\\anaconda\\lib\\site-packages)\n",
      "WARNING: Ignoring invalid distribution -umba (d:\\anaconda\\lib\\site-packages)\n",
      "WARNING: Ignoring invalid distribution - (d:\\anaconda\\lib\\site-packages)\n",
      "WARNING: Ignoring invalid distribution -umpy (d:\\anaconda\\lib\\site-packages)\n",
      "WARNING: Ignoring invalid distribution -umba (d:\\anaconda\\lib\\site-packages)\n",
      "WARNING: Ignoring invalid distribution - (d:\\anaconda\\lib\\site-packages)\n"
     ]
    }
   ],
   "source": [
    "!pip install pmdarima"
   ]
  }
 ],
 "metadata": {
  "kernelspec": {
   "display_name": "Python 3 (ipykernel)",
   "language": "python",
   "name": "python3"
  },
  "language_info": {
   "codemirror_mode": {
    "name": "ipython",
    "version": 3
   },
   "file_extension": ".py",
   "mimetype": "text/x-python",
   "name": "python",
   "nbconvert_exporter": "python",
   "pygments_lexer": "ipython3",
   "version": "3.8.16"
  }
 },
 "nbformat": 4,
 "nbformat_minor": 5
}
